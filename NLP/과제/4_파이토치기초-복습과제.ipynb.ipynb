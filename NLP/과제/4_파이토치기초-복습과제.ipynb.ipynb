{
 "cells": [
  {
   "cell_type": "code",
   "execution_count": 1,
   "id": "d6f51fda-6f80-44fc-a17a-a8fc5bda45e0",
   "metadata": {
    "tags": []
   },
   "outputs": [],
   "source": [
    "import torch"
   ]
  },
  {
   "cell_type": "markdown",
   "id": "c7952a1e-744e-469e-8e43-960af98a7b9d",
   "metadata": {
    "id": "17L_DP8PDfFZ",
    "tags": []
   },
   "source": [
    "#### 문제 1\n",
    "\n",
    "2D 텐서를 만들고 차원 0 위치에 크기가 1인 차원을 추가하세요."
   ]
  },
  {
   "cell_type": "code",
   "execution_count": 2,
   "id": "23b8281f-3fbc-44b7-8e63-70eb342bd95e",
   "metadata": {
    "colab": {
     "base_uri": "https://localhost:8080/"
    },
    "id": "3gNzlitpDfFZ",
    "outputId": "bc72c427-f1b9-4731-8886-83d29329a825",
    "tags": []
   },
   "outputs": [
    {
     "name": "stdout",
     "output_type": "stream",
     "text": [
      "tensor([[0., 0.],\n",
      "        [0., 0.]])\n",
      "tensor([[[0., 0.],\n",
      "         [0., 0.]]])\n",
      "torch.Size([1, 2, 2])\n"
     ]
    }
   ],
   "source": [
    "x = torch.Tensor(2, 2)\n",
    "print(x)\n",
    "\n",
    "x = x.unsqueeze(0)\n",
    "print(x)\n",
    "print(x.shape)"
   ]
  },
  {
   "cell_type": "markdown",
   "id": "28374c19-b504-4dc6-b87d-4bf3292d2662",
   "metadata": {
    "id": "uFLEd3XqDfFZ"
   },
   "source": [
    "#### 문제 2 \n",
    "\n",
    "이전 텐서에 추가한 차원을 삭제하세요."
   ]
  },
  {
   "cell_type": "code",
   "execution_count": 3,
   "id": "01527d2c-ca3f-45a1-a6b9-566356ce758b",
   "metadata": {
    "colab": {
     "base_uri": "https://localhost:8080/"
    },
    "id": "WXC1yxW9DfFa",
    "outputId": "251d8159-76da-4976-aaff-9c2b73eb26dd",
    "tags": []
   },
   "outputs": [
    {
     "name": "stdout",
     "output_type": "stream",
     "text": [
      "tensor([[0., 0.],\n",
      "        [0., 0.]])\n",
      "torch.Size([2, 2])\n"
     ]
    }
   ],
   "source": [
    "x = x.squeeze(0)\n",
    "print(x)\n",
    "print(x.shape)"
   ]
  },
  {
   "cell_type": "markdown",
   "id": "ac97ba47-84e4-4062-ae88-772e085498f3",
   "metadata": {
    "id": "eceWLyK4DfFa"
   },
   "source": [
    "#### 문제 3\n",
    "\n",
    "[3, 7) 범위를 갖는 5x3 크기의 랜덤한 텐서를 만드세요."
   ]
  },
  {
   "cell_type": "code",
   "execution_count": 4,
   "id": "3f29dcd8-5b9d-4d20-9901-6f5266f20d4d",
   "metadata": {
    "colab": {
     "base_uri": "https://localhost:8080/"
    },
    "id": "0NZvT53-DfFa",
    "outputId": "0170b54e-369a-4313-ebf2-140d9caf5119",
    "tags": []
   },
   "outputs": [
    {
     "name": "stdout",
     "output_type": "stream",
     "text": [
      "tensor([[4.2062, 6.2757, 4.6921],\n",
      "        [5.6626, 5.7376, 5.8232],\n",
      "        [3.8141, 5.0576, 6.2357],\n",
      "        [6.3160, 3.9988, 5.7199],\n",
      "        [6.3686, 5.7770, 6.1269]])\n"
     ]
    }
   ],
   "source": [
    "x = torch.rand(5, 3) * 4 + 3\n",
    "print(x)"
   ]
  },
  {
   "cell_type": "markdown",
   "id": "4e28a291-5f10-4671-8d9a-28058fde6967",
   "metadata": {
    "id": "eBiu_kqMDfFb",
    "tags": []
   },
   "source": [
    "#### 문제 4\n",
    "\n",
    "두 개의 2차원 행렬(`a=torch.rand(4,5)`, `b=torch.rand(5,4)`)의 행렬 곱셈(batch matrix-matrix product)을 계산하세요."
   ]
  },
  {
   "cell_type": "code",
   "execution_count": 5,
   "id": "28acfaa0-e512-415e-bf85-234eeb3f2002",
   "metadata": {
    "colab": {
     "base_uri": "https://localhost:8080/"
    },
    "id": "T78e4vYRDfFb",
    "outputId": "9a568d7d-a66f-46c5-83c5-ad36bb96f55b",
    "tags": []
   },
   "outputs": [
    {
     "name": "stdout",
     "output_type": "stream",
     "text": [
      "tensor([[1.6304, 1.7976, 0.7759, 1.8891],\n",
      "        [1.1925, 1.6433, 0.6062, 1.3114],\n",
      "        [1.6762, 1.8343, 0.8535, 1.6334],\n",
      "        [1.7336, 1.9356, 0.9333, 1.6556]])\n"
     ]
    }
   ],
   "source": [
    "a = torch.rand(4, 5)\n",
    "b = torch.rand(5, 4)\n",
    "print(torch.mm(a, b))"
   ]
  },
  {
   "cell_type": "markdown",
   "id": "d7d08933-7f38-4967-b087-db569cee594e",
   "metadata": {
    "id": "eBiu_kqMDfFb",
    "tags": []
   },
   "source": [
    "#### 문제 5\n",
    "\n",
    "문제 4에서 만든 행렬 a 의 각 열 별 덧셈을 수행해 벡터 vec 을 만듭니다. 결과 벡터의 길이는 행렬의 열의 길이와 같아야 합니다.\n",
    "원본 행렬, 결과 벡터의 형상도 출력합니다."
   ]
  },
  {
   "cell_type": "code",
   "execution_count": 6,
   "id": "43ad268e-c86c-4c6a-8824-27499c1cc0ea",
   "metadata": {
    "tags": []
   },
   "outputs": [
    {
     "name": "stdout",
     "output_type": "stream",
     "text": [
      "tensor([3.1870, 1.7324, 2.5182, 2.0939, 2.0233])\n",
      "torch.Size([4, 5])\n",
      "torch.Size([5])\n"
     ]
    }
   ],
   "source": [
    "v = a.sum(dim=0)\n",
    "print(v)\n",
    "print(a.shape)\n",
    "print(v.shape)"
   ]
  },
  {
   "cell_type": "markdown",
   "id": "207e9606-3063-460e-91f8-83cfc060ad63",
   "metadata": {
    "id": "eBiu_kqMDfFb",
    "tags": []
   },
   "source": [
    "#### 문제 6\n",
    "\n",
    "두 개의 2차원 행렬(`a=torch.rand(3,4,5)`, `b=torch.rand(3,5,4)`)의 배치 행렬 곱셈(batch matrix-matrix product)을 계산하세요."
   ]
  },
  {
   "cell_type": "code",
   "execution_count": 8,
   "id": "9fdb3ffd-4ebc-4215-9019-da32b06cf2f8",
   "metadata": {
    "colab": {
     "base_uri": "https://localhost:8080/"
    },
    "id": "T78e4vYRDfFb",
    "outputId": "9a568d7d-a66f-46c5-83c5-ad36bb96f55b",
    "tags": []
   },
   "outputs": [
    {
     "name": "stdout",
     "output_type": "stream",
     "text": [
      "tensor([[[1.9679, 0.7372, 1.9469, 1.8146],\n",
      "         [1.3571, 0.6023, 1.3267, 1.0715],\n",
      "         [2.7989, 1.4277, 2.7934, 2.5841],\n",
      "         [1.8680, 0.9125, 1.9233, 1.6076]],\n",
      "\n",
      "        [[1.6108, 1.2400, 0.4745, 1.4094],\n",
      "         [1.1775, 1.6323, 0.8564, 1.2352],\n",
      "         [1.4318, 1.2586, 0.7968, 1.2816],\n",
      "         [1.8968, 1.6363, 0.9437, 1.6900]],\n",
      "\n",
      "        [[1.9214, 1.3171, 0.7165, 1.7967],\n",
      "         [1.5782, 1.0342, 0.9042, 1.5412],\n",
      "         [1.1326, 0.6626, 0.4557, 0.8929],\n",
      "         [1.5490, 1.2542, 0.7185, 1.3425]]])\n",
      "torch.Size([3, 4, 4])\n"
     ]
    }
   ],
   "source": [
    "a = torch.rand(3, 4, 5)\n",
    "b = torch.rand(3, 5, 4)\n",
    "c = torch.bmm(a, b)\n",
    "print(c)\n",
    "print(c.shape)"
   ]
  },
  {
   "cell_type": "code",
   "execution_count": null,
   "id": "5b25ddd7",
   "metadata": {},
   "outputs": [],
   "source": []
  }
 ],
 "metadata": {
  "kernelspec": {
   "display_name": "NLP",
   "language": "python",
   "name": "nlp"
  },
  "language_info": {
   "codemirror_mode": {
    "name": "ipython",
    "version": 3
   },
   "file_extension": ".py",
   "mimetype": "text/x-python",
   "name": "python",
   "nbconvert_exporter": "python",
   "pygments_lexer": "ipython3",
   "version": "3.9.19"
  }
 },
 "nbformat": 4,
 "nbformat_minor": 5
}
