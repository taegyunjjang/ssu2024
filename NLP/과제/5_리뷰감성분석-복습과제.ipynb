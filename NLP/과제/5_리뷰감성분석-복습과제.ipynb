{
 "cells": [
  {
   "cell_type": "markdown",
   "id": "96393d98-403d-400a-b03c-bce8ed906c4d",
   "metadata": {
    "id": "JKpcu5kRknzW",
    "tags": []
   },
   "source": [
    "# 레스토랑 리뷰 감성 분류하기"
   ]
  },
  {
   "cell_type": "markdown",
   "id": "08377d93-2b9a-4522-aa7a-39fd709e8881",
   "metadata": {
    "id": "avxE11pYknzW"
   },
   "source": [
    "## 임포트"
   ]
  },
  {
   "cell_type": "code",
   "execution_count": 24,
   "id": "75382e8f-54e4-46bc-be2e-fc27746e2d63",
   "metadata": {
    "id": "4nGQCfWPknzX",
    "tags": []
   },
   "outputs": [],
   "source": [
    "from argparse import Namespace\n",
    "from collections import Counter\n",
    "import json\n",
    "import os\n",
    "import re\n",
    "import string\n",
    "\n",
    "import numpy as np\n",
    "import pandas as pd\n",
    "import torch\n",
    "import torch.nn as nn\n",
    "import torch.nn.functional as F\n",
    "import torch.optim as optim\n",
    "from torch.utils.data import Dataset, DataLoader\n",
    "from tqdm import notebook\n",
    "# from tqdm import tqdm"
   ]
  },
  {
   "cell_type": "markdown",
   "id": "c9e4d8cd-005c-4c02-8e73-c739a7a075ed",
   "metadata": {
    "id": "bPF73C3LknzX"
   },
   "source": [
    "## 데이터 벡터화 클래스"
   ]
  },
  {
   "cell_type": "markdown",
   "id": "36d3e8fc-20a5-4224-a55f-aeb1339a9935",
   "metadata": {
    "id": "PFP6Ytc6knzX"
   },
   "source": [
    "### `Dataset`"
   ]
  },
  {
   "cell_type": "code",
   "execution_count": 5,
   "id": "386f8bf9-2ba3-4694-bcf0-b56dc16f2caa",
   "metadata": {
    "code_folding": [
     65
    ],
    "id": "p3VEawi8knzX",
    "tags": []
   },
   "outputs": [],
   "source": [
    "class ReviewDataset(Dataset):\n",
    "    def __init__(self, review_df, vectorizer):\n",
    "        \"\"\"\n",
    "        매개변수:\n",
    "            review_df (pandas.DataFrame): 데이터셋\n",
    "            vectorizer (ReviewVectorizer): ReviewVectorizer 객체\n",
    "        \"\"\"\n",
    "        self.review_df = review_df\n",
    "        self._vectorizer = vectorizer\n",
    "        \n",
    "        self.train_df = self.review_df[self.review_df.split=='train']\n",
    "        self.train_size = len(self.train_df)\n",
    "        \n",
    "        self.val_df = self.review_df[self.review_df.split=='val']\n",
    "        self.validation_size = len(self.val_df)\n",
    "        \n",
    "        self.test_df = self.review_df[self.review_df.split=='test']\n",
    "        self.test_size = len(self.test_df)\n",
    "        \n",
    "        self._lookup_dict = {'train': (self.train_df, self.train_size),\n",
    "                             'val': (self.val_df, self.validation_size),\n",
    "                             'test': (self.test_df, self.test_size)}\n",
    "        \n",
    "        self.set_split('train')\n",
    "        \n",
    "\n",
    "    @classmethod\n",
    "    def load_dataset_and_make_vectorizer(cls, review_csv):\n",
    "        \"\"\" 데이터셋을 로드하고 새로운 ReviewVectorizer 객체를 만듭니다\n",
    "\n",
    "        매개변수:\n",
    "            review_csv (str): 데이터셋의 위치\n",
    "        반환값:\n",
    "            ReviewDataset의 인스턴스\n",
    "        \"\"\"\n",
    "        review_df = pd.read_csv(review_csv)\n",
    "        train_review_df = review_df[review_df.split=='train']\n",
    "        return cls(review_df, ReviewVectorizer.from_dataframe(train_review_df))\n",
    "\n",
    "    @classmethod\n",
    "    def load_dataset_and_load_vectorizer(cls, review_csv, vectorizer_filepath):\n",
    "        \"\"\" 데이터셋을 로드하고 새로운 ReviewVectorizer 객체를 만듭니다.\n",
    "        캐시된 ReviewVectorizer 객체를 재사용할 때 사용합니다.\n",
    "\n",
    "        매개변수:\n",
    "            review_csv (str): 데이터셋의 위치\n",
    "            vectorizer_filepath (str): ReviewVectorizer 객체의 저장 위치\n",
    "        반환값:\n",
    "            ReviewDataset의 인스턴스\n",
    "        \"\"\"\n",
    "        review_df = pd.read_csv(review_csv)\n",
    "        vectorizer = cls.load_vectorizer_only(vectorizer_filepath)\n",
    "        return cls(review_df, vectorizer)\n",
    "\n",
    "    @staticmethod\n",
    "    def load_vectorizer_only(vectorizer_filepath):\n",
    "        \"\"\" 파일에서 ReviewVectorizer 객체를 로드하는 정적 메서드\n",
    "\n",
    "        매개변수:\n",
    "            vectorizer_filepath (str): 직렬화된 ReviewVectorizer 객체의 위치\n",
    "        반환값:\n",
    "            ReviewVectorizer의 인스턴스\n",
    "        \"\"\"\n",
    "        with open(vectorizer_filepath) as fp:\n",
    "            return ReviewVectorizer.from_serializable(json.load(fp))\n",
    "\n",
    "    def save_vectorizer(self, vectorizer_filepath):\n",
    "        \"\"\" ReviewVectorizer 객체를 json 형태로 디스크에 저장합니다\n",
    "\n",
    "        매개변수:\n",
    "            vectorizer_filepath (str): ReviewVectorizer 객체의 저장 위치\n",
    "        \"\"\"\n",
    "        with open(vectorizer_filepath, \"w\") as fp:\n",
    "            json.dump(self._vectorizer.to_serializable(), fp)\n",
    "\n",
    "    def get_vectorizer(self):\n",
    "        \"\"\" 벡터 변환 객체를 반환합니다 \"\"\"\n",
    "        return self._vectorizer\n",
    "\n",
    "    def set_split(self, split=\"train\"):\n",
    "        \"\"\" 데이터프레임에 있는 열을 사용해 분할 세트를 선택합니다\n",
    "\n",
    "        매개변수:\n",
    "            split (str): \"train\", \"val\", \"test\" 중 하나\n",
    "        \"\"\"\n",
    "        self._target_split = split\n",
    "        self._target_df, self._target_size = self._lookup_dict[split]\n",
    "\n",
    "    def __len__(self):\n",
    "        return self._target_size\n",
    "\n",
    "    def __getitem__(self, index):\n",
    "        \"\"\" 파이토치 데이터셋의 주요 진입 메서드\n",
    "\n",
    "        매개변수:\n",
    "            index (int): 데이터 포인트의 인덱스\n",
    "        반환값:\n",
    "            데이터 포인트의 특성(x_data)과 레이블(y_target)로 이루어진 딕셔너리\n",
    "        \"\"\"\n",
    "        row = self._target_df.iloc[index]\n",
    "        \n",
    "        review_vector = self._vectorizer.vectorize(row.review)\n",
    "        \n",
    "        rating_index = self._vectorizer.rating_vocab.lookup_token(row.rating)\n",
    "        \n",
    "        return {'x_data': review_vector,\n",
    "                'y_target': rating_index}\n",
    "\n",
    "    def get_num_batches(self, batch_size):\n",
    "        \"\"\" 배치 크기가 주어지면 데이터셋으로 만들 수 있는 배치 개수를 반환합니다\n",
    "\n",
    "        매개변수:\n",
    "            batch_size (int)\n",
    "        반환값:\n",
    "            배치 개수\n",
    "        \"\"\"\n",
    "        return len(self) // batch_size"
   ]
  },
  {
   "cell_type": "markdown",
   "id": "e4879faf-3d5c-4b30-a861-a3038704bb96",
   "metadata": {
    "id": "Z0TqsAgRknzY"
   },
   "source": [
    "### `Vocabulary`"
   ]
  },
  {
   "cell_type": "code",
   "execution_count": 3,
   "id": "222a5a29-373b-413c-a752-7e81bc268328",
   "metadata": {
    "code_folding": [],
    "id": "uFVnZ6k3knzY",
    "tags": []
   },
   "outputs": [],
   "source": [
    "class Vocabulary(object):\n",
    "    \"\"\" 매핑을 위해 텍스트를 처리하고 어휘 사전을 만드는 클래스 \"\"\"\n",
    "\n",
    "    def __init__(self, token_to_idx=None, add_unk=True, unk_token=\"<UNK>\"):\n",
    "        \"\"\"\n",
    "        매개변수:\n",
    "            token_to_idx (dict): 기존 토큰-인덱스 매핑 딕셔너리\n",
    "            add_unk (bool): UNK 토큰을 추가할지 지정하는 플래그\n",
    "            unk_token (str): Vocabulary에 추가할 UNK 토큰\n",
    "        \"\"\"\n",
    "\n",
    "        if token_to_idx is None:\n",
    "            token_to_idx = {}\n",
    "        self._token_to_idx = token_to_idx\n",
    "\n",
    "        self._idx_to_token = {idx: token\n",
    "                              for token, idx in self._token_to_idx.items()}\n",
    "\n",
    "        self._add_unk = add_unk\n",
    "        self._unk_token = unk_token\n",
    "\n",
    "        self.unk_index = -1\n",
    "        if add_unk:\n",
    "            self.unk_index = self.add_token(unk_token)\n",
    "\n",
    "\n",
    "    def to_serializable(self):\n",
    "        \"\"\" 직렬화할 수 있는 딕셔너리를 반환합니다 \"\"\"\n",
    "        return {'token_to_idx': self._token_to_idx,\n",
    "                'add_unk': self._add_unk,\n",
    "                'unk_token': self._unk_token}\n",
    "\n",
    "    @classmethod\n",
    "    def from_serializable(cls, contents):\n",
    "        \"\"\" 직렬화된 딕셔너리에서 Vocabulary 객체를 만듭니다 \"\"\"\n",
    "        return cls(**contents)\n",
    "\n",
    "    def add_token(self, token):\n",
    "        \"\"\" 토큰을 기반으로 매핑 딕셔너리를 업데이트합니다\n",
    "\n",
    "        매개변수:\n",
    "            token (str): Vocabulary에 추가할 토큰\n",
    "        반환값:\n",
    "            index (int): 토큰에 상응하는 정수\n",
    "        \"\"\"\n",
    "        if token in self._token_to_idx:\n",
    "            index = self._token_to_idx[token]\n",
    "        else:\n",
    "            index = len(self._token_to_idx)\n",
    "            self._token_to_idx[token] = index\n",
    "            self._idx_to_token[index] = token\n",
    "        return index\n",
    "\n",
    "    def add_many(self, tokens):\n",
    "        \"\"\" 토큰 리스트를 Vocabulary에 추가합니다.\n",
    "\n",
    "        매개변수:\n",
    "            tokens (list): 문자열 토큰 리스트\n",
    "        반환값:\n",
    "            indices (list): 토큰 리스트에 상응되는 인덱스 리스트\n",
    "        \"\"\"\n",
    "        return [self.add_token(token) for token in tokens]\n",
    "\n",
    "    def lookup_token(self, token):\n",
    "        \"\"\" 토큰에 대응하는 인덱스를 추출합니다.\n",
    "        토큰이 없으면 UNK 인덱스를 반환합니다.\n",
    "\n",
    "        매개변수:\n",
    "            token (str): 찾을 토큰\n",
    "        반환값:\n",
    "            index (int): 토큰에 해당하는 인덱스\n",
    "        노트:\n",
    "            UNK 토큰을 사용하려면 (Vocabulary에 추가하기 위해)\n",
    "            `unk_index`가 0보다 커야 합니다.\n",
    "        \"\"\"\n",
    "        if self.unk_index >= 0:\n",
    "            return self._token_to_idx.get(token, self.unk_index)\n",
    "        else:\n",
    "            return self._token_to_idx[token]\n",
    "\n",
    "    def lookup_index(self, index):\n",
    "        \"\"\" 인덱스에 해당하는 토큰을 반환합니다.\n",
    "\n",
    "        매개변수:\n",
    "            index (int): 찾을 인덱스\n",
    "        반환값:\n",
    "            token (str): 인텍스에 해당하는 토큰\n",
    "        에러:\n",
    "            KeyError: 인덱스가 Vocabulary에 없을 때 발생합니다.\n",
    "        \"\"\"\n",
    "        if index not in self._idx_to_token:\n",
    "            raise KeyError(\"Vocabulary에 인덱스(%d)가 없습니다.\" % index)\n",
    "        return self._idx_to_token[index]\n",
    "\n",
    "    def __str__(self):\n",
    "        return \"<Vocabulary(size=%d)>\" % len(self)\n",
    "\n",
    "    def __len__(self):\n",
    "        return len(self._token_to_idx)"
   ]
  },
  {
   "cell_type": "markdown",
   "id": "71323f36-148c-4c7c-a271-ea2824399a54",
   "metadata": {
    "id": "qvPjShbEknzZ"
   },
   "source": [
    "### `Vectorizer`"
   ]
  },
  {
   "cell_type": "code",
   "execution_count": 4,
   "id": "ac0d86fe-ac98-4c56-8253-4cfb53359027",
   "metadata": {
    "code_folding": [],
    "id": "-PN2_SG2knzZ",
    "tags": []
   },
   "outputs": [],
   "source": [
    "class ReviewVectorizer(object):\n",
    "    \"\"\" 어휘 사전을 생성하고 관리합니다 \"\"\"\n",
    "    def __init__(self, review_vocab, rating_vocab):\n",
    "        \"\"\"\n",
    "        매개변수:\n",
    "            review_vocab (Vocabulary): 단어를 정수에 매핑하는 Vocabulary\n",
    "            rating_vocab (Vocabulary): 클래스 레이블을 정수에 매핑하는 Vocabulary\n",
    "        \"\"\"\n",
    "        self.review_vocab = review_vocab\n",
    "        self.rating_vocab = rating_vocab\n",
    "\n",
    "    def vectorize(self, review):\n",
    "        \"\"\" 리뷰에 대한 웟-핫 벡터를 만듭니다\n",
    "\n",
    "        매개변수:\n",
    "            review (str): 리뷰\n",
    "        반환값:\n",
    "            one_hot (np.ndarray): 원-핫 벡터\n",
    "        \"\"\"\n",
    "        one_hot = np.zeros(len(self.review_vocab), dtype=np.float32)\n",
    "        \n",
    "        for token in review.split(\" \"):\n",
    "            if token not in string.punctuation:\n",
    "                one_hot[self.review_vocab.lookup_token(token)] = 1\n",
    "                \n",
    "        return one_hot\n",
    "\n",
    "    @classmethod\n",
    "    def from_dataframe(cls, review_df, cutoff=25):\n",
    "        \"\"\" 데이터셋 데이터프레임에서 Vectorizer 객체를 만듭니다\n",
    "\n",
    "        매개변수:\n",
    "            review_df (pandas.DataFrame): 리뷰 데이터셋\n",
    "            cutoff (int): 빈도 기반 필터링 설정값\n",
    "        반환값:\n",
    "            ReviewVectorizer 객체\n",
    "        \"\"\"\n",
    "        review_vocab = Vocabulary(add_unk=True)\n",
    "        rating_vocab = Vocabulary(add_unk=False)\n",
    "\n",
    "        # 점수를 추가합니다\n",
    "        for rating in sorted(set(review_df.rating)):\n",
    "            rating_vocab.add_token(rating)\n",
    "\n",
    "        # count > cutoff인 단어를 추가합니다\n",
    "        word_counts = Counter()\n",
    "        for review in review_df.review:\n",
    "            for word in review.split(\" \"):\n",
    "                if word not in string.punctuation:\n",
    "                    word_counts[word] += 1\n",
    "\n",
    "        for word, count in word_counts.items():\n",
    "            if count > cutoff:\n",
    "                review_vocab.add_token(word)\n",
    "\n",
    "        return cls(review_vocab, rating_vocab)\n",
    "\n",
    "    @classmethod\n",
    "    def from_serializable(cls, contents):\n",
    "        \"\"\" 직렬화된 딕셔너리에서 ReviewVectorizer 객체를 만듭니다\n",
    "\n",
    "        매개변수:\n",
    "            contents (dict): 직렬화된 딕셔너리\n",
    "        반환값:\n",
    "            ReviewVectorizer 클래스 객체\n",
    "        \"\"\"\n",
    "        review_vocab = Vocabulary.from_serializable(contents['review_vocab'])\n",
    "        rating_vocab =  Vocabulary.from_serializable(contents['rating_vocab'])\n",
    "\n",
    "        return cls(review_vocab=review_vocab, rating_vocab=rating_vocab)\n",
    "\n",
    "    def to_serializable(self):\n",
    "        \"\"\" 캐싱을 위해 직렬화된 딕셔너리를 만듭니다\n",
    "\n",
    "        반환값:\n",
    "            contents (dict): 직렬화된 딕셔너리\n",
    "        \"\"\"\n",
    "        return {'review_vocab': self.review_vocab.to_serializable(),\n",
    "                'rating_vocab': self.rating_vocab.to_serializable()}"
   ]
  },
  {
   "cell_type": "markdown",
   "id": "9835adbe-f28f-4ba2-af59-83d784d73e53",
   "metadata": {
    "id": "6e1Xh1L8knzZ"
   },
   "source": [
    "### `DataLoader`"
   ]
  },
  {
   "cell_type": "code",
   "execution_count": 6,
   "id": "a69fb30b-ba12-4778-bdfe-795c100a75fa",
   "metadata": {
    "id": "ZHSiD6ZPknza",
    "tags": []
   },
   "outputs": [],
   "source": [
    "def generate_batches(dataset, batch_size, shuffle=True,\n",
    "                     drop_last=True, device=\"cpu\"):\n",
    "    \"\"\"\n",
    "    파이토치 DataLoader를 감싸고 있는 제너레이터 함수.\n",
    "    걱 텐서를 지정된 장치로 이동합니다.\n",
    "    \"\"\"\n",
    "    dataloader = DataLoader(dataset=dataset, batch_size=batch_size,\n",
    "                            shuffle=shuffle, drop_last=drop_last)\n",
    "\n",
    "    for data_dict in dataloader:\n",
    "        out_data_dict = {}\n",
    "        for name, tensor in data_dict.items():\n",
    "            out_data_dict[name] = data_dict[name].to(device)\n",
    "        yield out_data_dict"
   ]
  },
  {
   "cell_type": "markdown",
   "id": "d275eb7d-8f76-4b26-a52f-bb66fff1227c",
   "metadata": {
    "id": "pfkd9n7uknza"
   },
   "source": [
    "## `ReviewClassifier` 모델"
   ]
  },
  {
   "cell_type": "code",
   "execution_count": 7,
   "id": "bbfdaac2-d7ed-4e88-b048-2edac73e12fe",
   "metadata": {
    "code_folding": [],
    "id": "qeqDaFWMknza",
    "tags": []
   },
   "outputs": [],
   "source": [
    "class ReviewClassifier(nn.Module):\n",
    "    \"\"\" 간단한 신경망 기반 분류기 \"\"\"\n",
    "    def __init__(self, num_features):\n",
    "        \"\"\"\n",
    "        매개변수:\n",
    "            num_features (int): 입력 특성 벡터의 크기\n",
    "        \"\"\"\n",
    "        super(ReviewClassifier, self).__init__()\n",
    "        self.fc1 = nn.Linear(in_features=num_features,\n",
    "                             out_features=1)\n",
    "\n",
    "    def forward(self, x_in, apply_sigmoid=False):\n",
    "        \"\"\" 분류기의 정방향 계산\n",
    "\n",
    "        매개변수:\n",
    "            x_in (torch.Tensor): 입력 데이터 텐서\n",
    "                x_in.shape는 (batch, num_features)입니다.\n",
    "            apply_sigmoid (bool): 시그모이드 활성화 함수를 위한 플래그\n",
    "                크로스-엔트로피 손실을 사용하려면 False로 지정합니다\n",
    "        반환값:\n",
    "            결과 텐서. tensor.shape은 (batch,)입니다.\n",
    "        \"\"\"\n",
    "        y_out = self.fc1(x_in).squeeze()\n",
    "        if apply_sigmoid:\n",
    "            y_out = torch.sigmoid(y_out)\n",
    "        return y_out"
   ]
  },
  {
   "cell_type": "markdown",
   "id": "a595ad65-1655-478e-8d43-39fa8a2c9879",
   "metadata": {
    "id": "kz49BTsNknza"
   },
   "source": [
    "## 훈련 과정"
   ]
  },
  {
   "cell_type": "markdown",
   "id": "a5876610-9f0a-49f9-83b3-f5b6cf9023f6",
   "metadata": {
    "id": "GzZACWzTknza"
   },
   "source": [
    "### 설정"
   ]
  },
  {
   "cell_type": "markdown",
   "id": "eb4da2d6-81a2-48b4-af05-068b659f7880",
   "metadata": {
    "id": "N1ZbBfjAknzb"
   },
   "source": [
    "#### 유틸리티"
   ]
  },
  {
   "cell_type": "code",
   "execution_count": 8,
   "id": "9a381a2b-c9b1-4810-a050-f4cd75d94552",
   "metadata": {
    "id": "XiulUFxFknzb",
    "tags": []
   },
   "outputs": [],
   "source": [
    "def set_seed_everywhere(seed, cuda):\n",
    "    np.random.seed(seed)\n",
    "    torch.manual_seed(seed)\n",
    "    if cuda:\n",
    "        torch.cuda.manual_seed_all(seed)\n",
    "\n",
    "def handle_dirs(dirpath):\n",
    "    if not os.path.exists(dirpath):\n",
    "        os.makedirs(dirpath)"
   ]
  },
  {
   "cell_type": "code",
   "execution_count": 13,
   "id": "19c02e59-f5e9-409c-92a6-03e5a1ede2d7",
   "metadata": {
    "colab": {
     "base_uri": "https://localhost:8080/"
    },
    "id": "43EaQ4xNknzb",
    "outputId": "cf56e5b9-f823-4412-d6f1-197b5223be0c",
    "scrolled": true,
    "tags": []
   },
   "outputs": [
    {
     "name": "stdout",
     "output_type": "stream",
     "text": [
      "파일 경로: \n",
      "\tmodel_storage/ch3/yelp/vectorizer.json\n",
      "\tmodel_storage/ch3/yelp/model.pth\n",
      "CUDA 사용여부: False\n"
     ]
    }
   ],
   "source": [
    "args = Namespace(\n",
    "    # 날짜와 경로 정보\n",
    "    frequency_cutoff=25,\n",
    "    model_state_file='model.pth',\n",
    "    review_csv='data/yelp/reviews_with_splits_lite.csv',\n",
    "    # review_csv='data/yelp/reviews_with_splits_full.csv',\n",
    "    save_dir='model_storage/ch3/yelp/',\n",
    "    vectorizer_file='vectorizer.json',\n",
    "    # 모델 하이퍼파라미터 없음\n",
    "    # 훈련 하이퍼파라미터\n",
    "    batch_size=128,\n",
    "    early_stopping_criteria=5,\n",
    "    learning_rate=0.001,\n",
    "    num_epochs=10,\n",
    "    seed=1337,\n",
    "    # 실행 옵션\n",
    "    catch_keyboard_interrupt=True,\n",
    "    cuda=True,\n",
    "    expand_filepaths_to_save_dir=True,\n",
    "    reload_from_files=False,\n",
    ")\n",
    "\n",
    "if args.expand_filepaths_to_save_dir:\n",
    "    args.vectorizer_file = os.path.join(args.save_dir,\n",
    "                                        args.vectorizer_file)\n",
    "\n",
    "    args.model_state_file = os.path.join(args.save_dir,\n",
    "                                         args.model_state_file)\n",
    "\n",
    "    print(\"파일 경로: \")\n",
    "    print(\"\\t{}\".format(args.vectorizer_file))\n",
    "    print(\"\\t{}\".format(args.model_state_file))\n",
    "\n",
    "# CUDA 체크\n",
    "if not torch.cuda.is_available():\n",
    "    args.cuda = False\n",
    "\n",
    "print(\"CUDA 사용여부: {}\".format(args.cuda))\n",
    "\n",
    "args.device = torch.device(\"cuda\" if args.cuda else \"cpu\")\n",
    "\n",
    "# 재현성을 위해 시드 설정\n",
    "set_seed_everywhere(args.seed, args.cuda)\n",
    "\n",
    "# 디렉토리 처리\n",
    "handle_dirs(args.save_dir)"
   ]
  },
  {
   "cell_type": "markdown",
   "id": "58ea75a2-ccd5-4c08-8a0e-19e48c1b1428",
   "metadata": {
    "id": "EPaDezO_knzc"
   },
   "source": [
    "### 헬퍼 함수"
   ]
  },
  {
   "cell_type": "code",
   "execution_count": 10,
   "id": "0c7b7b2e-b9f8-4d8f-bc5e-eef7834d8f7c",
   "metadata": {
    "code_folding": [],
    "id": "0z67siD5knzc",
    "tags": []
   },
   "outputs": [],
   "source": [
    "def make_train_state(args):\n",
    "    return {'stop_early': False,\n",
    "            'early_stopping_step': 0,\n",
    "            'early_stopping_best_val': 1e8,\n",
    "            'learning_rate': args.learning_rate,\n",
    "            'epoch_index': 0,\n",
    "            'train_loss': [],\n",
    "            'train_acc': [],\n",
    "            'val_loss': [],\n",
    "            'val_acc': [],\n",
    "            'test_loss': -1,\n",
    "            'test_acc': -1,\n",
    "            'model_filename': args.model_state_file}\n",
    "\n",
    "def update_train_state(args, model, train_state):\n",
    "    \"\"\" 훈련 상태를 업데이트합니다.\n",
    "\n",
    "    Components:\n",
    "     - 조기 종료: 과대 적합 방지\n",
    "     - 모델 체크포인트: 더 나은 모델을 저장합니다\n",
    "\n",
    "    :param args: 메인 매개변수\n",
    "    :param model: 훈련할 모델\n",
    "    :param train_state: 훈련 상태를 담은 딕셔너리\n",
    "    :returns:\n",
    "        새로운 훈련 상태\n",
    "    \"\"\"\n",
    "\n",
    "    # 적어도 한 번 모델을 저장합니다\n",
    "    if train_state['epoch_index'] == 0:\n",
    "        torch.save(model.state_dict(), train_state['model_filename'])\n",
    "        train_state['stop_early'] = False\n",
    "\n",
    "    # 성능이 향상되면 모델을 저장합니다\n",
    "    elif train_state['epoch_index'] >= 1:\n",
    "        loss_tm1, loss_t = train_state['val_loss'][-2:]\n",
    "\n",
    "        # 손실이 나빠지면\n",
    "        if loss_t >= train_state['early_stopping_best_val']:\n",
    "            # 조기 종료 단계 업데이트\n",
    "            train_state['early_stopping_step'] += 1\n",
    "        # 손실이 감소하면\n",
    "        else:\n",
    "            # 최상의 모델 저장\n",
    "            if loss_t < train_state['early_stopping_best_val']:\n",
    "                torch.save(model.state_dict(), train_state['model_filename'])\n",
    "\n",
    "            # 조기 종료 단계 재설정\n",
    "            train_state['early_stopping_step'] = 0\n",
    "\n",
    "        # 조기 종료 여부 확인\n",
    "        train_state['stop_early'] = \\\n",
    "            train_state['early_stopping_step'] >= args.early_stopping_criteria\n",
    "\n",
    "    return train_state\n",
    "\n",
    "def compute_accuracy(y_pred, y_target):\n",
    "    y_target = y_target.cpu()\n",
    "    y_pred_indices = (torch.sigmoid(y_pred)>0.5).cpu().long()#.max(dim=1)[1]\n",
    "    n_correct = torch.eq(y_pred_indices, y_target).sum().item()\n",
    "    return n_correct / len(y_pred_indices) * 100"
   ]
  },
  {
   "cell_type": "markdown",
   "id": "c7762cf9-3b70-43d5-bd9e-50a16666cc76",
   "metadata": {
    "id": "-s3SHNKFknzc"
   },
   "source": [
    "### 초기화"
   ]
  },
  {
   "cell_type": "code",
   "execution_count": 11,
   "id": "99e11c00-cd28-4da1-936c-e5c1446534fc",
   "metadata": {
    "colab": {
     "base_uri": "https://localhost:8080/"
    },
    "id": "XbQHfMPRknzc",
    "outputId": "69fb96e7-be4c-40da-f9c4-0921f7a3571f",
    "tags": []
   },
   "outputs": [
    {
     "name": "stdout",
     "output_type": "stream",
     "text": [
      "데이터셋을 로드하고 Vectorizer를 만듭니다\n"
     ]
    }
   ],
   "source": [
    "if args.reload_from_files:\n",
    "    # 체크포인트에서 훈련을 다시 시작\n",
    "    print(\"데이터셋과 Vectorizer를 로드합니다\")\n",
    "    dataset = ReviewDataset.load_dataset_and_load_vectorizer(args.review_csv,\n",
    "                                                            args.vectorizer_file)\n",
    "else:\n",
    "    print(\"데이터셋을 로드하고 Vectorizer를 만듭니다\")\n",
    "    # 데이터셋과 Vectorizer 만들기\n",
    "    dataset = ReviewDataset.load_dataset_and_make_vectorizer(args.review_csv)\n",
    "    dataset.save_vectorizer(args.vectorizer_file)\n",
    "vectorizer = dataset.get_vectorizer()\n",
    "\n",
    "classifier = ReviewClassifier(num_features=len(vectorizer.review_vocab))\n",
    "classfier = classifier.to(args.device)\n",
    "\n",
    "loss_func = nn.BCEWithLogitsLoss()\n",
    "optimizer = optim.Adam(classfier.parameters(), lr=args.learning_rate)\n",
    "scheduler = optim.lr_scheduler.ReduceLROnPlateau(optimizer=optimizer,\n",
    "                                                 mode='min', factor=0.5,\n",
    "                                                 patience=1)\n",
    "\n",
    "train_state = make_train_state(args)"
   ]
  },
  {
   "cell_type": "markdown",
   "id": "ae13f66f-fcf8-4955-a0ab-4cedda92c752",
   "metadata": {
    "id": "1sT5-GKCknzc"
   },
   "source": [
    "### 훈련 반복"
   ]
  },
  {
   "cell_type": "code",
   "execution_count": 23,
   "id": "7522bca8-024b-4990-929d-f1e4f0d781d1",
   "metadata": {
    "code_folding": [
     30
    ],
    "colab": {
     "base_uri": "https://localhost:8080/",
     "height": 113,
     "referenced_widgets": [
      "fa7cf0b6460b44cbbcf3c8979ef898dc",
      "bf88fe669f7e4fc89c9eeb47e732e67e",
      "6fe8eb24030b40ff959aa71b68a90b6b",
      "87b6c923c0814077a7afb5f63ac844ad",
      "9f10716d1bfe4752a38cf1e794da46a9",
      "87c9bb6f6d5a4d47890265f41dd69f6c",
      "e2342f8a2a274f17a32ea67095384675",
      "d90dd244992f48beae5cf9a9b45d1d95",
      "0f9d33c8eeb34e98b4a87b43f8c0a188",
      "e426804d26d447d1a316fc5205334b87",
      "3fa7b59141684b899d53b535bf142cb7",
      "ebe8f91c4766461a885b1b7927ae5498",
      "7326bfd8ece64caea75d08f4551ccd4c",
      "9167ed2ca4064d98942c67289fa6853b",
      "be93bea8bf1640b49603f3edc8b9987d",
      "26e9ecbd3fc248429db7221562da3ae1",
      "f51351e6c4f84e01ad774ebd11d26537",
      "6dd2e3dab90b48c8a3645fea4082264a",
      "d35fd80c775f4c569ad0ddcd06d58cdc",
      "092cd1bd0e4946b1b2327d204dfb2ff4",
      "89d8a50b656e4221bc3eb81b9c53b55b",
      "44dfce45aac342ef9139b1a83e78d339",
      "9f7400b95d314abab4a594d2cf129038",
      "2fba44c7a99e4fc48f5a9c23be2bc1b2",
      "9d9016c13be0475bb3fa3d7f5cf6cef4",
      "727172931a1c4f6e859a4ff3e52b9667",
      "1966c87829db4834890c1fa5a0edd4e8",
      "ad304f55cf164bcf85becadc2ad11937",
      "0b1a0988bf0d45a0b01fc7e50121598b",
      "d301bb5a7dfe42a3a9be5ef6584a4885",
      "f9b4447bbb254c7a9c0acc7b2fd56a10",
      "ebbc190e9a6d459d9a05fb41c552478e",
      "f9cc7179267c4fbdae0c25e2e1de09bd"
     ]
    },
    "id": "l4bzxwjpknzc",
    "outputId": "6e33261b-d0f8-4fdc-cb2c-a97afc8587be",
    "tags": []
   },
   "outputs": [
    {
     "name": "stderr",
     "output_type": "stream",
     "text": [
      "training routine: 19it [01:34,  4.93s/it]                       "
     ]
    }
   ],
   "source": [
    "epoch_bar = notebook.tqdm(desc='training routine',\n",
    "                          total=args.num_epochs,\n",
    "                          position=0)\n",
    "\n",
    "dataset.set_split('train')\n",
    "train_bar = notebook.tqdm(desc='split=train',\n",
    "                          total=dataset.get_num_batches(args.batch_size),\n",
    "                          position=1,\n",
    "                          leave=True)\n",
    "dataset.set_split('val')\n",
    "val_bar = notebook.tqdm(desc='split=val',\n",
    "                        total=dataset.get_num_batches(args.batch_size),\n",
    "                        position=1,\n",
    "                        leave=True)\n",
    "\n",
    "try:\n",
    "    for epoch_index in range(args.num_epochs):\n",
    "        train_state['epoch_index'] = epoch_index\n",
    "\n",
    "        # 훈련 세트에 대한 순회\n",
    "\n",
    "        # 훈련 세트와 배치 제너레이터 준비, 손실과 정확도를 0으로 설정\n",
    "        dataset.set_split('train')\n",
    "        batch_generator = generate_batches(dataset,\n",
    "                                           batch_size=args.batch_size,\n",
    "                                           device=args.device)        \n",
    "        \n",
    "        running_loss = 0.0\n",
    "        running_acc = 0.0\n",
    "        classifier.train()\n",
    "\n",
    "        for batch_index, batch_dict in enumerate(batch_generator):\n",
    "            # 훈련 과정은 5단계로 이루어집니다\n",
    "\n",
    "            # --------------------------------------\n",
    "            # 단계 1. 그레이디언트를 0으로 초기화합니다\n",
    "            optimizer.zero_grad()\n",
    "\n",
    "            # 단계 2. 출력을 계산합니다\n",
    "            y_pred = classfier(x_in=batch_dict['x_data'].float())\n",
    "\n",
    "            # 단계 3. 손실을 계산합니다\n",
    "            loss = loss_func(y_pred, batch_dict['y_target'].float())\n",
    "            loss_t = loss.item()\n",
    "            running_loss += (loss_t - running_loss) / (batch_index + 1)\n",
    "\n",
    "            # 단계 4. 손실을 사용해 그레이디언트를 계산합니다\n",
    "            loss.backward()\n",
    "\n",
    "            # 단계 5. 옵티마이저로 가중치를 업데이트합니다\n",
    "            optimizer.step()\n",
    "            # -----------------------------------------\n",
    "\n",
    "            # 정확도를 계산합니다\n",
    "            acc_t = compute_accuracy(y_pred, batch_dict['y_target'])\n",
    "            running_acc += (acc_t - running_acc) / (batch_index + 1)\n",
    "\n",
    "            # 진행 바 업데이트\n",
    "            train_bar.set_postfix(loss=running_loss,\n",
    "                                  acc=running_acc,\n",
    "                                  epoch=epoch_index)\n",
    "            train_bar.update()\n",
    "\n",
    "        train_state['train_loss'].append(running_loss)\n",
    "        train_state['train_acc'].append(running_acc)\n",
    "\n",
    "        # 검증 세트에 대한 순회\n",
    "\n",
    "        # 검증 세트와 배치 제너레이터 준비, 손실과 정확도를 0으로 설정\n",
    "        dataset.set_split('val')\n",
    "        batch_generator = generate_batches(dataset,\n",
    "                                           batch_size=args.batch_size,\n",
    "                                           device=args.device)\n",
    "        running_loss = 0.\n",
    "        running_acc = 0.\n",
    "        classifier.eval()\n",
    "\n",
    "        for batch_index, batch_dict in enumerate(batch_generator):\n",
    "\n",
    "            # 단계 1. 출력을 계산합니다\n",
    "            y_pred = classifier(x_in=batch_dict['x_data'].float())\n",
    "\n",
    "            # 단계 2. 손실을 계산합니다\n",
    "            loss = loss_func(y_pred, batch_dict['y_target'].float())\n",
    "            loss_t = loss.item()\n",
    "            running_loss += (loss_t - running_loss) / (batch_index + 1)\n",
    "\n",
    "            # 단계 3. 정확도를 계산합니다\n",
    "            acc_t = compute_accuracy(y_pred, batch_dict['y_target'])\n",
    "            running_acc += (acc_t - running_acc) / (batch_index + 1)\n",
    "\n",
    "            val_bar.set_postfix(loss=running_loss,\n",
    "                                acc=running_acc,\n",
    "                                epoch=epoch_index)\n",
    "            val_bar.update()\n",
    "\n",
    "        train_state['val_loss'].append(running_loss)\n",
    "        train_state['val_acc'].append(running_acc)\n",
    "\n",
    "        train_state = update_train_state(args=args, model=classifier,\n",
    "                                         train_state=train_state)\n",
    "\n",
    "        scheduler.step(train_state['val_loss'][-1])\n",
    "\n",
    "        train_bar.n = 0\n",
    "        val_bar.n = 0\n",
    "        epoch_bar.update()\n",
    "\n",
    "        if train_state['stop_early']:\n",
    "            break\n",
    "\n",
    "        train_bar.n = 0\n",
    "        val_bar.n = 0\n",
    "        epoch_bar.update()\n",
    "except KeyboardInterrupt:\n",
    "    print(\"Exiting loop\")"
   ]
  },
  {
   "cell_type": "markdown",
   "id": "0b7e4565-e6ac-4bee-b9ba-17021cee2841",
   "metadata": {
    "id": "kGjweOMGknzd"
   },
   "source": [
    "### 추론"
   ]
  },
  {
   "cell_type": "code",
   "execution_count": 15,
   "id": "588bed48-2132-48a4-9eda-a34ce6ae63ed",
   "metadata": {
    "id": "Nc8UFjfrknzd"
   },
   "outputs": [],
   "source": [
    "# 가장 좋은 모델을 사용해 테스트 세트의 손실과 정확도를 계산합니다\n",
    "classifier.load_state_dict(torch.load(train_state['model_filename']))\n",
    "classifier = classifier.to(args.device)\n",
    "\n",
    "dataset.set_split('test')\n",
    "batch_generator = generate_batches(dataset,\n",
    "                                   batch_size=args.batch_size,\n",
    "                                   device=args.device)\n",
    "running_loss = 0.\n",
    "running_acc = 0.\n",
    "classifier.eval()\n",
    "\n",
    "for batch_index, batch_dict in enumerate(batch_generator):\n",
    "    # 출력을 계산합니다\n",
    "    y_pred = classifier(x_in=batch_dict['x_data'].float())\n",
    "\n",
    "    # 손실을 계산합니다\n",
    "    loss = loss_func(y_pred, batch_dict['y_target'].float())\n",
    "    loss_t = loss.item()    \n",
    "    running_loss += (loss_t - running_loss) / (batch_index + 1)\n",
    "\n",
    "    # 정확도를 계산합니다\n",
    "    acc_t = compute_accuracy(y_pred, batch_dict['y_target'])\n",
    "    running_acc += (acc_t - running_acc) / (batch_index + 1)\n",
    "\n",
    "train_state['test_loss'] = running_loss\n",
    "train_state['test_acc'] = running_acc"
   ]
  },
  {
   "cell_type": "code",
   "execution_count": 16,
   "id": "fe87e8f3-aa78-4dbc-a233-50855f6b03b8",
   "metadata": {
    "colab": {
     "base_uri": "https://localhost:8080/"
    },
    "id": "3jTKsa93knzd",
    "outputId": "5ccc17cd-320b-44f2-cc11-94d618702e20"
   },
   "outputs": [
    {
     "name": "stdout",
     "output_type": "stream",
     "text": [
      "테스트 손실: 0.225\n",
      "테스트 정확도: 91.03\n"
     ]
    }
   ],
   "source": [
    "print(\"테스트 손실: {:.3f}\".format(train_state['test_loss']))\n",
    "print(\"테스트 정확도: {:.2f}\".format(train_state['test_acc']))"
   ]
  },
  {
   "cell_type": "code",
   "execution_count": 17,
   "id": "73af1dc7-0833-44b1-aae1-717e53e163cd",
   "metadata": {
    "id": "zY1VAqsRknzd"
   },
   "outputs": [],
   "source": [
    "def preprocess_text(text):\n",
    "    text = text.lower()\n",
    "    text = re.sub(r\"([.,!?])\", r\" \\1 \", text)\n",
    "    text = re.sub(r\"[^a-zA-Z.,!?]+\", r\" \", text)\n",
    "    return text"
   ]
  },
  {
   "cell_type": "code",
   "execution_count": 18,
   "id": "91c13b3f-b78a-4e16-b6a1-cff410e844f7",
   "metadata": {
    "id": "aNRTryKgknzd"
   },
   "outputs": [],
   "source": [
    "def predict_rating(review, classifier, vectorizer, decision_threshold=0.5):\n",
    "    \"\"\" 리뷰 점수 예측하기\n",
    "\n",
    "    매개변수:\n",
    "        review (str): 리뷰 텍스트\n",
    "        classifier (ReviewClassifier): 훈련된 모델\n",
    "        vectorizer (ReviewVectorizer): Vectorizer 객체\n",
    "        decision_threshold (float): 클래스를 나눌 결정 경계\n",
    "    \"\"\"\n",
    "    review = preprocess_text(review)\n",
    "\n",
    "    vectorized_review = torch.tensor(vectorizer.vectorize(review))\n",
    "    result = classifier(vectorized_review.view(1, -1))\n",
    "\n",
    "    probability_value = torch.sigmoid(result).item()\n",
    "    index = 1\n",
    "    if probability_value < decision_threshold:\n",
    "        index = 0\n",
    "\n",
    "    return vectorizer.rating_vocab.lookup_index(index)"
   ]
  },
  {
   "cell_type": "code",
   "execution_count": 19,
   "id": "a066f9bc-bc4b-4384-aa47-de6e5043f2ff",
   "metadata": {
    "colab": {
     "base_uri": "https://localhost:8080/"
    },
    "id": "0tevGQ8yknzd",
    "outputId": "4509e0b0-8970-4782-b79e-6639ace43a3e"
   },
   "outputs": [
    {
     "name": "stdout",
     "output_type": "stream",
     "text": [
      "this is a pretty awesome book -> positive\n"
     ]
    }
   ],
   "source": [
    "test_review = \"this is a pretty awesome book\"\n",
    "\n",
    "classifier = classifier.cpu()\n",
    "prediction = predict_rating(test_review, classifier, vectorizer, \n",
    "                            decision_threshold=0.5)\n",
    "print(\"{} -> {}\".format(test_review, prediction))"
   ]
  },
  {
   "cell_type": "markdown",
   "id": "683ade92-6bc6-4b37-a684-d5d627bb1a48",
   "metadata": {
    "id": "AH7Petbeknze"
   },
   "source": [
    "### 해석"
   ]
  },
  {
   "cell_type": "code",
   "execution_count": 20,
   "id": "923d57bb-9aa1-48a4-b072-a3f7f76e3153",
   "metadata": {
    "colab": {
     "base_uri": "https://localhost:8080/"
    },
    "id": "xwN4_QwWknze",
    "outputId": "c2b3fd41-7176-4788-a603-f109a0e0c758"
   },
   "outputs": [
    {
     "data": {
      "text/plain": [
       "torch.Size([1, 7356])"
      ]
     },
     "execution_count": 20,
     "metadata": {},
     "output_type": "execute_result"
    }
   ],
   "source": [
    "classifier.fc1.weight.shape"
   ]
  },
  {
   "cell_type": "code",
   "execution_count": 21,
   "id": "1b69ae22-6b85-4459-b57d-2e7f3617db0d",
   "metadata": {
    "colab": {
     "base_uri": "https://localhost:8080/"
    },
    "id": "kObFwLliknze",
    "outputId": "be253d24-8c02-48b5-c084-2e8c29d1e68b"
   },
   "outputs": [
    {
     "name": "stdout",
     "output_type": "stream",
     "text": [
      "긍정 리뷰에 영향을 미치는 단어:\n",
      "--------------------------------------\n",
      "delicious\n",
      "amazing\n",
      "pleasantly\n",
      "fantastic\n",
      "excellent\n",
      "great\n",
      "awesome\n",
      "vegas\n",
      "perfect\n",
      "yummy\n",
      "solid\n",
      "superb\n",
      "ngreat\n",
      "yum\n",
      "love\n",
      "heaven\n",
      "outstanding\n",
      "perfection\n",
      "rocks\n",
      "downside\n",
      "====\n",
      "\n",
      "\n",
      "\n",
      "부정 리뷰에 영향을 미치는 단어:\n",
      "--------------------------------------\n",
      "worst\n",
      "mediocre\n",
      "awful\n",
      "horrible\n",
      "bland\n",
      "terrible\n",
      "rude\n",
      "meh\n",
      "disgusting\n",
      "overpriced\n",
      "tasteless\n",
      "disappointing\n",
      "poorly\n",
      "lacked\n",
      "underwhelmed\n",
      "unprofessional\n",
      "slowest\n",
      "unfriendly\n",
      "ugh\n",
      "poor\n"
     ]
    }
   ],
   "source": [
    "# 가중치 정렬\n",
    "fc1_weights = classifier.fc1.weight.detach()[0]\n",
    "_, indices = torch.sort(fc1_weights, dim=0, descending=True)\n",
    "indices = indices.numpy().tolist()\n",
    "\n",
    "# 긍정적인 상위 20개 단어\n",
    "print(\"긍정 리뷰에 영향을 미치는 단어:\")\n",
    "print(\"--------------------------------------\")\n",
    "for i in range(20):\n",
    "    print(vectorizer.review_vocab.lookup_index(indices[i]))\n",
    "\n",
    "print(\"====\\n\\n\\n\")\n",
    "\n",
    "# 부정적인 상위 20개 단어\n",
    "print(\"부정 리뷰에 영향을 미치는 단어:\")\n",
    "print(\"--------------------------------------\")\n",
    "indices.reverse()\n",
    "for i in range(20):\n",
    "    print(vectorizer.review_vocab.lookup_index(indices[i]))"
   ]
  },
  {
   "cell_type": "code",
   "execution_count": null,
   "id": "e6df63f4",
   "metadata": {},
   "outputs": [],
   "source": []
  }
 ],
 "metadata": {
  "kernelspec": {
   "display_name": "NLP",
   "language": "python",
   "name": "nlp"
  },
  "language_info": {
   "codemirror_mode": {
    "name": "ipython",
    "version": 3
   },
   "file_extension": ".py",
   "mimetype": "text/x-python",
   "name": "python",
   "nbconvert_exporter": "python",
   "pygments_lexer": "ipython3",
   "version": "3.9.19"
  }
 },
 "nbformat": 4,
 "nbformat_minor": 5
}
