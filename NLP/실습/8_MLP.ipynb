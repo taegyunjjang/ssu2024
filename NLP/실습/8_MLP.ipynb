{
 "cells": [
  {
   "cell_type": "markdown",
   "id": "f8c1e71e",
   "metadata": {},
   "source": [
    "## 파이토치를 사용한 MLP"
   ]
  },
  {
   "cell_type": "code",
   "execution_count": 1,
   "id": "8d43fe9b",
   "metadata": {},
   "outputs": [],
   "source": [
    "import torch\n",
    "import torch.nn as nn\n",
    "import torch.nn.functional as F"
   ]
  },
  {
   "cell_type": "code",
   "execution_count": 3,
   "id": "49633c94",
   "metadata": {},
   "outputs": [],
   "source": [
    "class MultilayerPerceptron(nn.Module):\n",
    "    def __init__(self, input_dim, hidden_dim, output_dim):\n",
    "        \"\"\"\n",
    "        매개변수:\n",
    "            input_dim (int): 입력 크기\n",
    "            hidden_dim (int): 은닉층 크기\n",
    "            output_dim (int): 출력 크기\n",
    "        \"\"\"\n",
    "        super(MultilayerPerceptron, self).__init__()\n",
    "        # TRY IT YOURSELF\n",
    "        self.fc1 = nn.Linear(input_dim, hidden_dim)\n",
    "        self.fc2 = nn.Linear(hidden_dim, output_dim)\n",
    "       \n",
    "    def forward(self, x_in, apply_softmax=False):\n",
    "        \"\"\"MLP의 정방향 계산\n",
    "        \n",
    "        매개변수:\n",
    "            x_in (torch.Tensor): 입력 데이터 텐서\n",
    "                x_in.shape는 (batch, input_dim)입니다.\n",
    "            apply_softmax (bool): 소프트맥스 함수를 위한 플래그\n",
    "                크로스 엔트로피 손실을 사용하려면 반드시 False로 지정해야 합니다\n",
    "        반환값:\n",
    "            결과 텐서. tensor.shape는 (batch, output_dim)입니다.\n",
    "        \"\"\"\n",
    "        # TRY IT YOURSELF\n",
    "        intermediate = F.relu(self.fc1(x_in))\n",
    "        output = self.fc2(intermediate)\n",
    "        \n",
    "        if apply_softmax:\n",
    "            output = F.softmax(output, dim=1)\n",
    "            \n",
    "        return output"
   ]
  },
  {
   "cell_type": "code",
   "execution_count": 4,
   "id": "98dd78db",
   "metadata": {},
   "outputs": [
    {
     "name": "stdout",
     "output_type": "stream",
     "text": [
      "MultilayerPerceptron(\n",
      "  (fc1): Linear(in_features=3, out_features=100, bias=True)\n",
      "  (fc2): Linear(in_features=100, out_features=4, bias=True)\n",
      ")\n"
     ]
    }
   ],
   "source": [
    "batch_size = 2\n",
    "input_dim = 3\n",
    "hidden_dim = 100\n",
    "output_dim = 4\n",
    "\n",
    "# 모델 생성\n",
    "mlp = MultilayerPerceptron(input_dim, hidden_dim, output_dim)\n",
    "print(mlp)"
   ]
  },
  {
   "cell_type": "markdown",
   "id": "7bf9f47d",
   "metadata": {},
   "source": [
    "### 랜덤한 입력으로 MLP 테스트하기"
   ]
  },
  {
   "cell_type": "code",
   "execution_count": 5,
   "id": "cb7a0da7",
   "metadata": {},
   "outputs": [],
   "source": [
    "def describe(x):\n",
    "    # TRY IT YOURSELF\n",
    "    print(f\"type: {x.type()}\")\n",
    "    print(f\"shape: {x.shape}\")\n",
    "    print(f\"value: {x}\")"
   ]
  },
  {
   "cell_type": "code",
   "execution_count": 6,
   "id": "21e7f660",
   "metadata": {},
   "outputs": [
    {
     "name": "stdout",
     "output_type": "stream",
     "text": [
      "type: torch.FloatTensor\n",
      "shape: torch.Size([2, 3])\n",
      "value: tensor([[0.0580, 0.9785, 0.0537],\n",
      "        [0.3612, 0.8830, 0.7870]])\n"
     ]
    }
   ],
   "source": [
    "x_input = torch.rand(batch_size, input_dim)\n",
    "describe(x_input)"
   ]
  },
  {
   "cell_type": "code",
   "execution_count": 6,
   "id": "a6d223aa",
   "metadata": {},
   "outputs": [
    {
     "name": "stdout",
     "output_type": "stream",
     "text": [
      "타입: torch.FloatTensor\n",
      "크기: torch.Size([2, 4])\n",
      "값: tensor([[-0.0925, -0.4151,  0.0208,  0.1347],\n",
      "        [-0.2588, -0.4645,  0.0242,  0.1220]], grad_fn=<AddmmBackward0>)\n"
     ]
    }
   ],
   "source": [
    "y_output = mlp(x_input, apply_softmax=False)\n",
    "describe(y_output)"
   ]
  },
  {
   "cell_type": "code",
   "execution_count": 7,
   "id": "92024cc4",
   "metadata": {},
   "outputs": [
    {
     "name": "stdout",
     "output_type": "stream",
     "text": [
      "type: torch.FloatTensor\n",
      "shape: torch.Size([2, 4])\n",
      "value: tensor([[0.2265, 0.2129, 0.2703, 0.2903],\n",
      "        [0.2287, 0.2221, 0.2719, 0.2772]], grad_fn=<SoftmaxBackward0>)\n"
     ]
    }
   ],
   "source": [
    "y_output = mlp(x_input, apply_softmax=True) # softmax 적용하여 확률 출력\n",
    "describe(y_output)"
   ]
  }
 ],
 "metadata": {
  "kernelspec": {
   "display_name": "Python 3 (ipykernel)",
   "language": "python",
   "name": "python3"
  },
  "language_info": {
   "codemirror_mode": {
    "name": "ipython",
    "version": 3
   },
   "file_extension": ".py",
   "mimetype": "text/x-python",
   "name": "python",
   "nbconvert_exporter": "python",
   "pygments_lexer": "ipython3",
   "version": "3.9.19"
  }
 },
 "nbformat": 4,
 "nbformat_minor": 5
}
