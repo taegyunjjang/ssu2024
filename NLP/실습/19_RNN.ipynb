{
 "cells": [
  {
   "cell_type": "markdown",
   "id": "f8c1e71e",
   "metadata": {},
   "source": [
    "## 엘만 RNN 구현하기"
   ]
  },
  {
   "cell_type": "code",
   "execution_count": 1,
   "id": "8d43fe9b",
   "metadata": {},
   "outputs": [],
   "source": [
    "import torch\n",
    "import torch.nn as nn\n",
    "import torch.nn.functional as F"
   ]
  },
  {
   "cell_type": "code",
   "execution_count": null,
   "id": "49633c94",
   "metadata": {},
   "outputs": [],
   "source": [
    "class ElmanRNN(nn.Module):\n",
    "    def __init__(self, input_size, hidden_size, batch_first=False):\n",
    "        \"\"\"\n",
    "        매개변수:\n",
    "            input_size (int): 입력 벡터 크기\n",
    "            hidden_size (int): 은닉 상태 벡터 크기\n",
    "            batch_first (bool): 0번째 차원이 배치인지 여부\n",
    "        \"\"\"\n",
    "        super(ElmanRNN, self).__init__()\n",
    "        self.rnn_cell = nn.RNNCell(input_size, hidden_size)\n",
    "        \n",
    "        self.batch_first = batch_first\n",
    "        self.hidden_size = hidden_size\n",
    "        \n",
    "        \n",
    "    def _initialize_hidden(self, batch_size):\n",
    "        return torch.zeros(batch_size, self.hidden_size)\n",
    "       \n",
    "        \n",
    "    def forward(self, x_in, initial_hidden=None):\n",
    "        \"\"\"ElmanRNN의 정방향 계산\n",
    "        \n",
    "        매개변수:\n",
    "            x_in (torch.Tensor): 입력 데이터 텐서\n",
    "                If self.batch_first: x_in.shape = (batch_size, seq_size, feat_size)\n",
    "                Else: x_in.shape = (seq_size, batch_size, feat_size)\n",
    "            initial_hidden (torch.Tensor): RNN의 초기 은닉 상태\n",
    "        반환값:\n",
    "            hiddens (torch.Tensor): 각 타임 스텝에서 RNN 출력\n",
    "                If self.batch_first:\n",
    "                    hiddens.shape = (batch_size, seq_size, hidden_size)\n",
    "                Else: hiddens.shape = (seq_size, batch_size, hidden_size)\n",
    "        \"\"\"\n",
    "        \n",
    "        if self.batch_first:\n",
    "            # TRY IT YOURSELF\n",
    "            batch_size, seq_size, feat_size = x_in.size()\n",
    "            x_in = x_in.permute(1, 0, 2)\n",
    "        else:\n",
    "            seq_size, batch_size, feat_size = x_in.size()\n",
    "            \n",
    "        hiddens = []\n",
    "        \n",
    "        if initial_hidden is None:\n",
    "            initial_hidden = self._initialize_hidden(batch_size)\n",
    "            initial_hidden = initial_hidden.to(x_in.device)\n",
    "            \n",
    "        hidden_t = initial_hidden\n",
    "        \n",
    "        for t in range(seq_size):# TRY IT YOURSELF\n",
    "            # TRY IT YOURSELF\n",
    "            hidden_t = self.rnn_cell(x_in[t], hidden_t)\n",
    "            hiddens.append(hidden_t)\n",
    "            \n",
    "        # TRY IT YOURSELF\n",
    "        hiddens = torch.stack(hiddens)\n",
    "        \n",
    "        if self.batch_first:\n",
    "            hiddens = hiddens.permute(1, 0, 2)\n",
    "            \n",
    "        return hiddens"
   ]
  },
  {
   "cell_type": "code",
   "execution_count": 3,
   "id": "98dd78db",
   "metadata": {},
   "outputs": [
    {
     "name": "stdout",
     "output_type": "stream",
     "text": [
      "ElmanRNN(\n",
      "  (rnn_cell): RNNCell(512, 100)\n",
      ")\n"
     ]
    }
   ],
   "source": [
    "input_size = 512\n",
    "hidden_size = 100\n",
    "\n",
    "# 모델 생성\n",
    "rnn = ElmanRNN(input_size, hidden_size)\n",
    "print(rnn)"
   ]
  }
 ],
 "metadata": {
  "kernelspec": {
   "display_name": "NLP",
   "language": "python",
   "name": "nlp"
  },
  "language_info": {
   "codemirror_mode": {
    "name": "ipython",
    "version": 3
   },
   "file_extension": ".py",
   "mimetype": "text/x-python",
   "name": "python",
   "nbconvert_exporter": "python",
   "pygments_lexer": "ipython3",
   "version": "3.9.19"
  }
 },
 "nbformat": 4,
 "nbformat_minor": 5
}
