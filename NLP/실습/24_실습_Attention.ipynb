{
 "cells": [
  {
   "cell_type": "code",
   "execution_count": 16,
   "id": "397dc17f",
   "metadata": {},
   "outputs": [],
   "source": [
    "import torch\n",
    "from torch.nn import functional as F"
   ]
  },
  {
   "cell_type": "code",
   "execution_count": 1,
   "id": "515e1cf2",
   "metadata": {},
   "outputs": [],
   "source": [
    "def verbose_attention(encoder_state_vectors, query_vector):\n",
    "    \"\"\" 원소별 연산을 사용하는 어텐션 메커니즘 버전\n",
    "    \n",
    "    매개변수:\n",
    "        encoder_state_vectors (torch.Tensor): 인코더의 양방향 GRU에서 출력된 3차원 텐서\n",
    "        query_vector (torch.Tensor): 디코더 GRU의 은닉 상태\n",
    "    \"\"\"\n",
    "    # TRY IT YOURSELF\n",
    "\n",
    "def terse_attention(encoder_state_vectors, query_vector):\n",
    "    \"\"\" 점곱을 사용하는 어텐션 메커니즘 버전\n",
    "    \n",
    "    매개변수:\n",
    "        encoder_state_vectors (torch.Tensor): 인코더의 양방향 GRU에서 출력된 3차원 텐서\n",
    "        query_vector (torch.Tensor): 디코더 GRU의 은닉 상태\n",
    "    \"\"\"\n",
    "    # TRY IT YOURSELF"
   ]
  },
  {
   "cell_type": "code",
   "execution_count": 51,
   "id": "6765042c",
   "metadata": {},
   "outputs": [
    {
     "name": "stdout",
     "output_type": "stream",
     "text": [
      "[[0.16908073 0.2026648  0.18250851 0.16886662 0.27687935]\n",
      " [0.12252482 0.24226674 0.17525572 0.15620217 0.30375056]\n",
      " [0.05641803 0.11084368 0.09659718 0.14712325 0.58901787]]\n",
      "[[0.16908073 0.2026648  0.18250851 0.16886662 0.27687935]\n",
      " [0.12252482 0.24226674 0.17525572 0.15620217 0.30375056]\n",
      " [0.05641803 0.11084368 0.09659718 0.14712325 0.58901787]]\n"
     ]
    }
   ],
   "source": [
    "import numpy as np\n",
    "\n",
    "np.random.seed(1234)\n",
    "encoder_states = np.random.rand(3, 5, 4) # batch_size, num_vectors, vector_size\n",
    "query_vector = encoder_states[:,-1, :]\n",
    "\n",
    "encoder_states = torch.tensor(encoder_states)\n",
    "query_vector = torch.tensor(query_vector)\n",
    "\n",
    "context_vectors, vector_probabilities, vector_scores = verbose_attention(encoder_states, query_vector)\n",
    "print(vector_probabilities.numpy())\n",
    "\n",
    "context_vectors, vector_probabilities = terse_attention(encoder_states, query_vector)\n",
    "print(vector_probabilities.numpy())"
   ]
  },
  {
   "cell_type": "code",
   "execution_count": null,
   "id": "2f862ae5",
   "metadata": {},
   "outputs": [],
   "source": []
  }
 ],
 "metadata": {
  "kernelspec": {
   "display_name": "Python 3 (ipykernel)",
   "language": "python",
   "name": "python3"
  },
  "language_info": {
   "codemirror_mode": {
    "name": "ipython",
    "version": 3
   },
   "file_extension": ".py",
   "mimetype": "text/x-python",
   "name": "python",
   "nbconvert_exporter": "python",
   "pygments_lexer": "ipython3",
   "version": "3.9.13"
  }
 },
 "nbformat": 4,
 "nbformat_minor": 5
}
