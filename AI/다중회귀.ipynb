{
 "cells": [
  {
   "cell_type": "code",
   "execution_count": 1,
   "metadata": {},
   "outputs": [
    {
     "data": {
      "text/plain": [
       "array([[ 8.4 ,  2.11,  1.41],\n",
       "       [13.7 ,  3.53,  2.  ],\n",
       "       [15.  ,  3.82,  2.43],\n",
       "       [16.2 ,  4.59,  2.63],\n",
       "       [17.4 ,  4.59,  2.94],\n",
       "       [18.  ,  5.22,  3.32],\n",
       "       [18.7 ,  5.2 ,  3.12],\n",
       "       [19.  ,  5.64,  3.05],\n",
       "       [19.6 ,  5.14,  3.04],\n",
       "       [20.  ,  5.08,  2.77],\n",
       "       [21.  ,  5.69,  3.56],\n",
       "       [21.  ,  5.92,  3.31],\n",
       "       [21.  ,  5.69,  3.67],\n",
       "       [21.3 ,  6.38,  3.53],\n",
       "       [22.  ,  6.11,  3.41],\n",
       "       [22.  ,  5.64,  3.52],\n",
       "       [22.  ,  6.11,  3.52],\n",
       "       [22.  ,  5.88,  3.52],\n",
       "       [22.  ,  5.52,  4.  ],\n",
       "       [22.5 ,  5.86,  3.62],\n",
       "       [22.5 ,  6.79,  3.62],\n",
       "       [22.7 ,  5.95,  3.63],\n",
       "       [23.  ,  5.22,  3.63],\n",
       "       [23.5 ,  6.28,  3.72],\n",
       "       [24.  ,  7.29,  3.72],\n",
       "       [24.  ,  6.38,  3.82],\n",
       "       [24.6 ,  6.73,  4.17],\n",
       "       [25.  ,  6.44,  3.68],\n",
       "       [25.6 ,  6.56,  4.24],\n",
       "       [26.5 ,  7.17,  4.14],\n",
       "       [27.3 ,  8.32,  5.14],\n",
       "       [27.5 ,  7.17,  4.34],\n",
       "       [27.5 ,  7.05,  4.34],\n",
       "       [27.5 ,  7.28,  4.57],\n",
       "       [28.  ,  7.82,  4.2 ],\n",
       "       [28.7 ,  7.59,  4.64],\n",
       "       [30.  ,  7.62,  4.77],\n",
       "       [32.8 , 10.03,  6.02],\n",
       "       [34.5 , 10.26,  6.39],\n",
       "       [35.  , 11.49,  7.8 ],\n",
       "       [36.5 , 10.88,  6.86],\n",
       "       [36.  , 10.61,  6.74],\n",
       "       [37.  , 10.84,  6.26],\n",
       "       [37.  , 10.57,  6.37],\n",
       "       [39.  , 11.14,  7.49],\n",
       "       [39.  , 11.14,  6.  ],\n",
       "       [39.  , 12.43,  7.35],\n",
       "       [40.  , 11.93,  7.11],\n",
       "       [40.  , 11.73,  7.22],\n",
       "       [40.  , 12.38,  7.46],\n",
       "       [40.  , 11.14,  6.63],\n",
       "       [42.  , 12.8 ,  6.87],\n",
       "       [43.  , 11.93,  7.28],\n",
       "       [43.  , 12.51,  7.42],\n",
       "       [43.5 , 12.6 ,  8.14],\n",
       "       [44.  , 12.49,  7.6 ]])"
      ]
     },
     "execution_count": 1,
     "metadata": {},
     "output_type": "execute_result"
    }
   ],
   "source": [
    "import pandas as pd\n",
    "import numpy as np\n",
    "\n",
    "df = pd.read_csv(\"https://bit.ly/perch_csv\")\n",
    "perch_full = df.to_numpy()\n",
    "perch_full"
   ]
  },
  {
   "cell_type": "code",
   "execution_count": 3,
   "metadata": {},
   "outputs": [],
   "source": [
    "perch_weight = np.array([5.9, 32.0, 40.0, 51.5, 70.0, 100.0, 78.0, 80.0, 85.0, 85.0, 110.0,\n",
    "       115.0, 125.0, 130.0, 120.0, 120.0, 130.0, 135.0, 110.0, 130.0,\n",
    "       150.0, 145.0, 150.0, 170.0, 225.0, 145.0, 188.0, 180.0, 197.0,\n",
    "       218.0, 300.0, 260.0, 265.0, 250.0, 250.0, 300.0, 320.0, 514.0,\n",
    "       556.0, 840.0, 685.0, 700.0, 700.0, 690.0, 900.0, 650.0, 820.0,\n",
    "       850.0, 900.0, 1015.0, 820.0, 1100.0, 1000.0, 1100.0, 1000.0,\n",
    "       1000.0])"
   ]
  },
  {
   "cell_type": "code",
   "execution_count": 4,
   "metadata": {},
   "outputs": [],
   "source": [
    "from sklearn.model_selection import train_test_split\n",
    "\n",
    "train_input, test_input, train_target, test_target = train_test_split(\n",
    "    perch_full, perch_weight, random_state=42)"
   ]
  },
  {
   "cell_type": "code",
   "execution_count": null,
   "metadata": {},
   "outputs": [
    {
     "name": "stdout",
     "output_type": "stream",
     "text": [
      "[[1. 2. 3. 4. 6. 9.]]\n"
     ]
    }
   ],
   "source": [
    "from sklearn.preprocessing import PolynomialFeatures\n",
    "\n",
    "poly = PolynomialFeatures()\n",
    "poly.fit([[2, 3]])\n",
    "print(poly.transform([[2, 3]]))"
   ]
  },
  {
   "cell_type": "code",
   "execution_count": 7,
   "metadata": {},
   "outputs": [
    {
     "name": "stdout",
     "output_type": "stream",
     "text": [
      "[[2. 3. 4. 6. 9.]]\n"
     ]
    }
   ],
   "source": [
    "# 절편항 제거\n",
    "poly = PolynomialFeatures(include_bias=False)\n",
    "poly.fit([[2, 3]])\n",
    "print(poly.transform([[2, 3]]))"
   ]
  },
  {
   "cell_type": "code",
   "execution_count": 11,
   "metadata": {},
   "outputs": [
    {
     "name": "stdout",
     "output_type": "stream",
     "text": [
      "(42, 9)\n",
      "['x0' 'x1' 'x2' 'x0^2' 'x0 x1' 'x0 x2' 'x1^2' 'x1 x2' 'x2^2']\n"
     ]
    }
   ],
   "source": [
    "poly = PolynomialFeatures(include_bias=False)\n",
    "poly.fit(train_input)\n",
    "train_poly = poly.transform(train_input)\n",
    "print(train_poly.shape)\n",
    "print(poly.get_feature_names_out())"
   ]
  },
  {
   "cell_type": "code",
   "execution_count": 12,
   "metadata": {},
   "outputs": [
    {
     "name": "stdout",
     "output_type": "stream",
     "text": [
      "(14, 9)\n"
     ]
    }
   ],
   "source": [
    "test_poly = poly.transform(test_input)\n",
    "print(test_poly.shape)"
   ]
  },
  {
   "cell_type": "code",
   "execution_count": 14,
   "metadata": {},
   "outputs": [
    {
     "name": "stdout",
     "output_type": "stream",
     "text": [
      "0.9903183436982126\n",
      "0.9714559911594125\n"
     ]
    }
   ],
   "source": [
    "from sklearn.linear_model import LinearRegression\n",
    "\n",
    "lr = LinearRegression()\n",
    "lr.fit(train_poly, train_target)\n",
    "print(lr.score(train_poly, train_target))\n",
    "print(lr.score(test_poly, test_target))"
   ]
  },
  {
   "cell_type": "code",
   "execution_count": 16,
   "metadata": {},
   "outputs": [
    {
     "name": "stdout",
     "output_type": "stream",
     "text": [
      "(42, 55)\n",
      "(14, 55)\n"
     ]
    }
   ],
   "source": [
    "poly = PolynomialFeatures(degree=5, include_bias=False)\n",
    "poly.fit(train_input)\n",
    "train_poly = poly.transform(train_input)\n",
    "test_poly = poly.transform(test_input)\n",
    "print(train_poly.shape)\n",
    "print(test_poly.shape)"
   ]
  },
  {
   "cell_type": "code",
   "execution_count": 18,
   "metadata": {},
   "outputs": [
    {
     "name": "stdout",
     "output_type": "stream",
     "text": [
      "0.9999999999997232\n",
      "-144.40564483377855\n"
     ]
    }
   ],
   "source": [
    "lr.fit(train_poly, train_target)\n",
    "print(lr.score(train_poly, train_target))\n",
    "print(lr.score(test_poly, test_target))\n",
    "# 특성의 개수를 늘려서 생긴 과적합"
   ]
  },
  {
   "cell_type": "code",
   "execution_count": null,
   "metadata": {},
   "outputs": [],
   "source": [
    "from sklearn.preprocessing import StandardScaler\n",
    "\n",
    "ss = StandardScaler()  # z-score\n",
    "ss.fit(train_poly)  # 평균, 표준편차 계산 (훈련 세트에만 적용)\n",
    "\n",
    "train_scaled = ss.transform(train_poly)\n",
    "test_scaled = ss.transform(test_poly)"
   ]
  },
  {
   "cell_type": "code",
   "execution_count": 20,
   "metadata": {},
   "outputs": [
    {
     "name": "stdout",
     "output_type": "stream",
     "text": [
      "0.9896101671037343\n",
      "0.9790693977615387\n"
     ]
    }
   ],
   "source": [
    "from sklearn.linear_model import Ridge\n",
    "\n",
    "ridge = Ridge()\n",
    "ridge.fit(train_scaled, train_target)\n",
    "print(ridge.score(train_scaled, train_target))\n",
    "print(ridge.score(test_scaled, test_target))"
   ]
  },
  {
   "cell_type": "code",
   "execution_count": 21,
   "metadata": {},
   "outputs": [
    {
     "name": "stdout",
     "output_type": "stream",
     "text": [
      "0.989789897208096\n",
      "0.9800593698421883\n"
     ]
    }
   ],
   "source": [
    "from sklearn.linear_model import Lasso\n",
    "\n",
    "lasso = Lasso()\n",
    "lasso.fit(train_scaled, train_target)\n",
    "print(lasso.score(train_scaled, train_target))\n",
    "print(lasso.score(test_scaled, test_target))"
   ]
  },
  {
   "cell_type": "code",
   "execution_count": 23,
   "metadata": {},
   "outputs": [
    {
     "name": "stdout",
     "output_type": "stream",
     "text": [
      "42\n"
     ]
    }
   ],
   "source": [
    "print(np.sum(lasso.coef_==0))  # 42개의 특성을 사용하지 않고 예측"
   ]
  },
  {
   "cell_type": "code",
   "execution_count": null,
   "metadata": {},
   "outputs": [],
   "source": []
  },
  {
   "cell_type": "code",
   "execution_count": null,
   "metadata": {},
   "outputs": [],
   "source": []
  },
  {
   "cell_type": "code",
   "execution_count": null,
   "metadata": {},
   "outputs": [],
   "source": []
  },
  {
   "cell_type": "code",
   "execution_count": null,
   "metadata": {},
   "outputs": [],
   "source": []
  }
 ],
 "metadata": {
  "kernelspec": {
   "display_name": "NLP",
   "language": "python",
   "name": "python3"
  },
  "language_info": {
   "codemirror_mode": {
    "name": "ipython",
    "version": 3
   },
   "file_extension": ".py",
   "mimetype": "text/x-python",
   "name": "python",
   "nbconvert_exporter": "python",
   "pygments_lexer": "ipython3",
   "version": "3.12.7"
  }
 },
 "nbformat": 4,
 "nbformat_minor": 2
}
