{
 "cells": [
  {
   "cell_type": "markdown",
   "id": "c7e7e394-35a8-4055-8c5d-6be3cd779236",
   "metadata": {},
   "source": [
    "# 지도학습 1. 분류 (Classification)\n",
    "## 데이터 로드\n",
    "- 과일 데이터(fruits_300.npy)를 로드합니다.\n",
    "- 타깃 값을 만듭니다(fruits_target).\n",
    "- 훈련 / 테스트 셋을 분할합니다. (random_state=42, 타깃 라벨 비율을 유지하며 분할, 다른 설정값은 디폴트 지정)"
   ]
  },
  {
   "cell_type": "code",
   "execution_count": 80,
   "id": "f8a58361-49ab-46d5-a1ca-68abbd07afd2",
   "metadata": {},
   "outputs": [],
   "source": [
    "import numpy as np\n",
    "\n",
    "fruits = np.load(\"fruits_300.npy\")\n",
    "fruits_2d = fruits.reshape(-1, 100*100)"
   ]
  },
  {
   "cell_type": "code",
   "execution_count": 81,
   "id": "9542f73f-a3cd-4775-b024-b8a7b150fab9",
   "metadata": {},
   "outputs": [],
   "source": [
    "fruits_target = ['apple']*100 + ['pineapple']*100 + ['banana']*100"
   ]
  },
  {
   "cell_type": "code",
   "execution_count": 82,
   "id": "e2083e90",
   "metadata": {},
   "outputs": [],
   "source": [
    "from sklearn.model_selection import train_test_split\n",
    "\n",
    "train_input, test_input, train_target, test_target = train_test_split(\n",
    "    fruits_2d, fruits_target, random_state=42, stratify=fruits_target)"
   ]
  },
  {
   "cell_type": "markdown",
   "id": "780bdb7d-3483-44e1-b790-6a2e3622243a",
   "metadata": {},
   "source": [
    "## 분류기 학습 및 성능 비교\n",
    "- 대상 모델: KNN, 로지스틱 회귀\n",
    "- 성능 지표: 정확도\n",
    "- 훈련, 테스트 셋 성능 비교\n",
    "- 파라미터 디폴트 값으로 설정"
   ]
  },
  {
   "cell_type": "code",
   "execution_count": 83,
   "id": "0260fd1a-9f79-42b3-a731-7ee83345f41b",
   "metadata": {},
   "outputs": [
    {
     "name": "stdout",
     "output_type": "stream",
     "text": [
      "0.9955555555555555\n",
      "1.0\n"
     ]
    }
   ],
   "source": [
    "from sklearn.neighbors import KNeighborsClassifier\n",
    "\n",
    "kn = KNeighborsClassifier()\n",
    "kn.fit(train_input, train_target)\n",
    "print(kn.score(train_input, train_target))\n",
    "print(kn.score(test_input, test_target))"
   ]
  },
  {
   "cell_type": "code",
   "execution_count": 84,
   "id": "8f430c39",
   "metadata": {},
   "outputs": [
    {
     "name": "stdout",
     "output_type": "stream",
     "text": [
      "1.0\n",
      "1.0\n"
     ]
    }
   ],
   "source": [
    "from sklearn.linear_model import LogisticRegression\n",
    "\n",
    "lr = LogisticRegression()\n",
    "lr.fit(train_input, train_target)\n",
    "print(lr.score(train_input, train_target))\n",
    "print(lr.score(test_input, test_target))"
   ]
  },
  {
   "cell_type": "markdown",
   "id": "34104347-e69e-4979-a7f2-83833654c478",
   "metadata": {},
   "source": [
    "## 분류 모델 실험 결과에 대해 고찰합니다.\n"
   ]
  },
  {
   "cell_type": "markdown",
   "id": "334536e0-ff60-4073-b93a-add9f4e631e9",
   "metadata": {},
   "source": []
  },
  {
   "cell_type": "markdown",
   "id": "a06a8a83",
   "metadata": {},
   "source": [
    "# 지도학습 2. 회귀 (Regression)\n",
    "## 데이터 로드 및 전처리\n",
    "- 판다스 함수를 이용해 광고비-매출 데이터(advertising.csv)를 로드합니다.\n",
    "- 입력 특성(TV, Radio, Newspaper)과 타겟(Sales)을 분리합니다.\n",
    "- 훈련 / 테스트 셋을 분할합니다. (random_state=42, 다른 설정값은 디폴트 지정)"
   ]
  },
  {
   "cell_type": "code",
   "execution_count": 85,
   "id": "a0fa87ab-178c-48fc-871c-e6c6abfa8cfa",
   "metadata": {},
   "outputs": [],
   "source": [
    "import pandas as pd\n",
    "\n",
    "advertising = pd.read_csv('advertising.csv')"
   ]
  },
  {
   "cell_type": "code",
   "execution_count": 86,
   "id": "1d5afed9",
   "metadata": {},
   "outputs": [],
   "source": [
    "advertising_input = advertising.drop(columns='Sales')\n",
    "advertising_target = advertising['Sales']"
   ]
  },
  {
   "cell_type": "code",
   "execution_count": 87,
   "id": "7ec05d95",
   "metadata": {},
   "outputs": [],
   "source": [
    "train_input, test_input, train_target, test_target = train_test_split(\n",
    "    advertising_input, advertising_target, random_state=42)"
   ]
  },
  {
   "cell_type": "markdown",
   "id": "70e567ad",
   "metadata": {},
   "source": [
    "## 회귀 모델 학습 및 성능 비교\n",
    "- 대상 모델: 다중 선형 회귀, 다항 회귀(최대항 3), 다항 회귀(최대항 4)\n",
    "- 성능 지표: 결정계수(R²)\n",
    "- 훈련, 테스트 셋 성능 비교\n",
    "- 모델 설정값: 다항 회귀의 include_bias=False 지정, 나머지는 디폴트 지정\n",
    "- 전처리: StandardScaler 적용"
   ]
  },
  {
   "cell_type": "code",
   "execution_count": 88,
   "id": "dc6372a9",
   "metadata": {},
   "outputs": [
    {
     "name": "stdout",
     "output_type": "stream",
     "text": [
      "다중 선형 회귀:\n",
      "훈련 세트 R²: 0.8958\n",
      "테스트 세트 R²: 0.9116\n"
     ]
    }
   ],
   "source": [
    "from sklearn.preprocessing import StandardScaler, PolynomialFeatures\n",
    "from sklearn.linear_model import LinearRegression\n",
    "from sklearn.metrics import r2_score\n",
    "\n",
    "scaler = StandardScaler()\n",
    "train_scaled = scaler.fit_transform(train_input)\n",
    "test_scaled = scaler.transform(test_input)\n",
    "\n",
    "linear_model = LinearRegression()\n",
    "linear_model.fit(train_scaled, train_target)\n",
    "\n",
    "train_pred_linear = linear_model.predict(train_scaled)\n",
    "test_pred_linear = linear_model.predict(test_scaled)\n",
    "\n",
    "r2_train_linear = r2_score(train_target, train_pred_linear)\n",
    "r2_test_linear = r2_score(test_target, test_pred_linear)\n",
    "\n",
    "print(\"다중 선형 회귀:\")\n",
    "print(f\"훈련 세트 R²: {r2_train_linear:.4f}\")\n",
    "print(f\"테스트 세트 R²: {r2_test_linear:.4f}\")"
   ]
  },
  {
   "cell_type": "code",
   "execution_count": 89,
   "id": "0ac4cd57",
   "metadata": {},
   "outputs": [
    {
     "name": "stdout",
     "output_type": "stream",
     "text": [
      "\n",
      "다항 회귀 (최대항 3):\n",
      "훈련 세트 R²: 0.9364\n",
      "테스트 세트 R²: 0.9362\n",
      "\n",
      "다항 회귀 (최대항 4):\n",
      "훈련 세트 R²: 0.9545\n",
      "테스트 세트 R²: 0.6179\n"
     ]
    }
   ],
   "source": [
    "def evaluate_polynomial(degree):\n",
    "    poly = PolynomialFeatures(degree=degree, include_bias=False)\n",
    "    train_poly = poly.fit_transform(train_scaled)\n",
    "    test_poly = poly.transform(test_scaled)\n",
    "    \n",
    "    poly_model = LinearRegression()\n",
    "    poly_model.fit(train_poly, train_target)\n",
    "    \n",
    "    train_pred = poly_model.predict(train_poly)\n",
    "    test_pred = poly_model.predict(test_poly)\n",
    "    \n",
    "    r2_train = r2_score(train_target, train_pred)\n",
    "    r2_test = r2_score(test_target, test_pred)\n",
    "    \n",
    "    print(f\"\\n다항 회귀 (최대항 {degree}):\")\n",
    "    print(f\"훈련 세트 R²: {r2_train:.4f}\")\n",
    "    print(f\"테스트 세트 R²: {r2_test:.4f}\")\n",
    "    \n",
    "evaluate_polynomial(degree=3)\n",
    "evaluate_polynomial(degree=4)"
   ]
  },
  {
   "cell_type": "code",
   "execution_count": null,
   "id": "697e4554-19e9-425d-af9f-11a257c17533",
   "metadata": {},
   "outputs": [],
   "source": []
  },
  {
   "cell_type": "markdown",
   "id": "95d74b0e-4375-43f1-b1ca-f85fa7ea85b3",
   "metadata": {},
   "source": [
    "## 회귀 모델 규제\n",
    "- Ridge, Lasso 를 이용해 다항 회귀 최대항 4 모델을 규제합니다.\n",
    "- 규제 모델의 입력은 Z-score 로 전처리 합니다.\n",
    "- 디폴트 설정값을 사용합니다."
   ]
  },
  {
   "cell_type": "code",
   "execution_count": 90,
   "id": "caec81c7",
   "metadata": {},
   "outputs": [],
   "source": [
    "from sklearn.linear_model import Ridge, Lasso\n",
    "\n",
    "poly = PolynomialFeatures(degree=4, include_bias=False)\n",
    "train_poly = poly.fit_transform(train_scaled)\n",
    "test_poly = poly.transform(test_scaled)"
   ]
  },
  {
   "cell_type": "code",
   "execution_count": 91,
   "id": "34f65618",
   "metadata": {},
   "outputs": [
    {
     "name": "stdout",
     "output_type": "stream",
     "text": [
      "Ridge 회귀:\n",
      "훈련 세트 R²: 0.9541\n",
      "테스트 세트 R²: 0.6155\n"
     ]
    }
   ],
   "source": [
    "ridge = Ridge()\n",
    "ridge.fit(train_poly, train_target)\n",
    "\n",
    "ridge_train_pred = ridge.predict(train_poly)\n",
    "ridge_test_pred = ridge.predict(test_poly)\n",
    "\n",
    "ridge_r2_train = r2_score(train_target, ridge_train_pred)\n",
    "ridge_r2_test = r2_score(test_target, ridge_test_pred)\n",
    "\n",
    "print(\"Ridge 회귀:\")\n",
    "print(f\"훈련 세트 R²: {ridge_r2_train:.4f}\")\n",
    "print(f\"테스트 세트 R²: {ridge_r2_test:.4f}\")"
   ]
  },
  {
   "cell_type": "code",
   "execution_count": 92,
   "id": "d00bd472",
   "metadata": {},
   "outputs": [
    {
     "name": "stdout",
     "output_type": "stream",
     "text": [
      "\n",
      "Lasso 회귀:\n",
      "훈련 세트 R²: 0.8319\n",
      "테스트 세트 R²: 0.7909\n"
     ]
    }
   ],
   "source": [
    "lasso = Lasso()\n",
    "lasso.fit(train_poly, train_target)\n",
    "\n",
    "lasso_train_pred = lasso.predict(train_poly)\n",
    "lasso_test_pred = lasso.predict(test_poly)\n",
    "\n",
    "lasso_r2_train = r2_score(train_target, lasso_train_pred)\n",
    "lasso_r2_test = r2_score(test_target, lasso_test_pred)\n",
    "\n",
    "print(\"\\nLasso 회귀:\")\n",
    "print(f\"훈련 세트 R²: {lasso_r2_train:.4f}\")\n",
    "print(f\"테스트 세트 R²: {lasso_r2_test:.4f}\")"
   ]
  },
  {
   "cell_type": "markdown",
   "id": "1895c29d",
   "metadata": {},
   "source": [
    "## 회귀 모델 실험 결과에 대해 고찰합니다."
   ]
  },
  {
   "cell_type": "markdown",
   "id": "c80a7a62-1cac-4023-bd10-7970fbc50ef3",
   "metadata": {},
   "source": []
  }
 ],
 "metadata": {
  "kernelspec": {
   "display_name": "AI",
   "language": "python",
   "name": "ai"
  },
  "language_info": {
   "codemirror_mode": {
    "name": "ipython",
    "version": 3
   },
   "file_extension": ".py",
   "mimetype": "text/x-python",
   "name": "python",
   "nbconvert_exporter": "python",
   "pygments_lexer": "ipython3",
   "version": "3.11.10"
  }
 },
 "nbformat": 4,
 "nbformat_minor": 5
}
