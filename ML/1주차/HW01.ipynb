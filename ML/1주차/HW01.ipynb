{
 "cells": [
  {
   "cell_type": "markdown",
   "metadata": {},
   "source": [
    "# HW01"
   ]
  },
  {
   "cell_type": "code",
   "execution_count": 1,
   "metadata": {},
   "outputs": [],
   "source": [
    "import pandas as pd\n",
    "import numpy as np\n",
    "\n",
    "# 샘플 데이터 생성\n",
    "np.random.seed(0)\n",
    "\n",
    "data = {\n",
    "    '이름': ['박찬호', '류현진', '문동주', '김서현', '주현상'] * 4,\n",
    "    '과목': ['수학', '영어', '과학', '국어'] * 5,\n",
    "    '점수': np.random.randint(60, 101, 20),\n",
    "    '학년': np.random.randint(1, 4, 20)\n",
    "}\n",
    "\n",
    "df = pd.DataFrame(data)"
   ]
  },
  {
   "cell_type": "markdown",
   "metadata": {},
   "source": [
    "문제 1: groupby를 사용하여 각 학생의 평균 점수를 계산하고, 평균 점수가 가장 높은 상위 3명의 학생을 골라 출력"
   ]
  },
  {
   "cell_type": "code",
   "execution_count": 22,
   "metadata": {},
   "outputs": [
    {
     "name": "stdout",
     "output_type": "stream",
     "text": [
      "이름\n",
      "주현상    82.5\n",
      "박찬호    80.5\n",
      "김서현    80.0\n",
      "Name: 점수, dtype: float64\n"
     ]
    }
   ],
   "source": [
    "avg_score = df.groupby('이름')['점수'].mean()\n",
    "print(avg_score.nlargest(3))"
   ]
  },
  {
   "cell_type": "markdown",
   "metadata": {},
   "source": [
    "문제 2: groupby와 apply를 사용하여 각 과목별로 학년 간 평균 점수 차이가 가장 큰 과목 출력"
   ]
  },
  {
   "cell_type": "code",
   "execution_count": 41,
   "metadata": {},
   "outputs": [
    {
     "name": "stdout",
     "output_type": "stream",
     "text": [
      "영어\n"
     ]
    },
    {
     "name": "stderr",
     "output_type": "stream",
     "text": [
      "C:\\Users\\tgkim\\AppData\\Local\\Temp\\ipykernel_5184\\2747158752.py:4: DeprecationWarning: DataFrameGroupBy.apply operated on the grouping columns. This behavior is deprecated, and in a future version of pandas the grouping columns will be excluded from the operation. Either pass `include_groups=False` to exclude the groupings or explicitly select the grouping columns after groupby to silence this warning.\n",
      "  subject_score_diff = df.groupby('과목').apply(score_diff)\n"
     ]
    }
   ],
   "source": [
    "def score_diff(group):\n",
    "    return group.groupby('학년')['점수'].mean().max() - group.groupby('학년')['점수'].mean().min()\n",
    "\n",
    "subject_score_diff = df.groupby('과목').apply(score_diff)\n",
    "print(subject_score_diff.idxmax())"
   ]
  },
  {
   "cell_type": "markdown",
   "metadata": {},
   "source": [
    "문제 3: apply를 사용하여 각 학생의 점수에 대해 다음 기준으로 등급을 매기는 새로운 열을 생성하고 각 등급별 학생 수를 계산"
   ]
  },
  {
   "cell_type": "markdown",
   "metadata": {},
   "source": [
    "- 95점 이상: 'A+'\n",
    "- 90-94점: 'A'\n",
    "- 85-89점: 'B+'\n",
    "- 80-84점: 'B'\n",
    "- 75-79점: 'C+'\n",
    "- 70-74점: 'C'\n",
    "- 70점 미만: 'F'"
   ]
  },
  {
   "cell_type": "code",
   "execution_count": 47,
   "metadata": {},
   "outputs": [
    {
     "name": "stdout",
     "output_type": "stream",
     "text": [
      "등급\n",
      "F     6\n",
      "B     6\n",
      "A+    5\n",
      "C+    2\n",
      "C     1\n",
      "Name: count, dtype: int64\n"
     ]
    }
   ],
   "source": [
    "def grade(score):\n",
    "    if score >= 95:\n",
    "        return 'A+'\n",
    "    elif score >= 90:\n",
    "        return 'A'\n",
    "    elif score >= 85:\n",
    "        return 'B+'\n",
    "    elif score >= 80:\n",
    "        return 'B'\n",
    "    elif score >= 75:\n",
    "        return 'C+'\n",
    "    elif score >= 70:\n",
    "        return 'C'\n",
    "    else:\n",
    "        return 'F'\n",
    "\n",
    "df['등급'] = df['점수'].apply(grade)\n",
    "print(df['등급'].value_counts())"
   ]
  },
  {
   "cell_type": "markdown",
   "metadata": {},
   "source": [
    "문제 4: groupby와 apply를 사용하여 각 과목별로 상위 20% 학생의 점수 평균 계산"
   ]
  },
  {
   "cell_type": "code",
   "execution_count": 54,
   "metadata": {},
   "outputs": [
    {
     "name": "stdout",
     "output_type": "stream",
     "text": [
      "과목\n",
      "과학    98.0\n",
      "국어    99.0\n",
      "수학    83.0\n",
      "영어    84.0\n",
      "dtype: float64\n"
     ]
    },
    {
     "name": "stderr",
     "output_type": "stream",
     "text": [
      "C:\\Users\\tgkim\\AppData\\Local\\Temp\\ipykernel_5184\\4283723547.py:6: DeprecationWarning: DataFrameGroupBy.apply operated on the grouping columns. This behavior is deprecated, and in a future version of pandas the grouping columns will be excluded from the operation. Either pass `include_groups=False` to exclude the groupings or explicitly select the grouping columns after groupby to silence this warning.\n",
      "  print(df.groupby('과목').apply(top_20_percent_average))\n"
     ]
    }
   ],
   "source": [
    "def top_20_percent_average(group):\n",
    "    cutoff = group['점수'].quantile(0.8)\n",
    "    top_students = group[group['점수'] >= cutoff]\n",
    "    return top_students['점수'].mean()\n",
    "\n",
    "print(df.groupby('과목').apply(top_20_percent_average))"
   ]
  },
  {
   "cell_type": "code",
   "execution_count": null,
   "metadata": {},
   "outputs": [],
   "source": []
  },
  {
   "cell_type": "code",
   "execution_count": null,
   "metadata": {},
   "outputs": [],
   "source": []
  }
 ],
 "metadata": {
  "kernelspec": {
   "display_name": "ML",
   "language": "python",
   "name": "ml"
  },
  "language_info": {
   "codemirror_mode": {
    "name": "ipython",
    "version": 3
   },
   "file_extension": ".py",
   "mimetype": "text/x-python",
   "name": "python",
   "nbconvert_exporter": "python",
   "pygments_lexer": "ipython3",
   "version": "3.10.10"
  }
 },
 "nbformat": 4,
 "nbformat_minor": 2
}
