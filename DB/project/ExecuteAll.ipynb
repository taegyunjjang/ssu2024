{
 "cells": [
  {
   "cell_type": "code",
   "execution_count": 19,
   "id": "f7a31027-fab0-4297-9f92-b295c9afd49a",
   "metadata": {},
   "outputs": [
    {
     "name": "stdout",
     "output_type": "stream",
     "text": [
      "2024-2db\n"
     ]
    }
   ],
   "source": [
    "import os\n",
    "\n",
    "from mysql import connector\n",
    "from dotenv import load_dotenv\n",
    "\n",
    "# Access environment variables\n",
    "load_dotenv()\n",
    "PASSWORD = os.getenv(\"PASSWORD\")\n",
    "print(PASSWORD)\n"
   ]
  },
  {
   "cell_type": "markdown",
   "id": "cacfb32b-fe3e-4433-9b4f-c5b998744d97",
   "metadata": {},
   "source": [
    "## \"\"PART 1: CONNECTING TO MYSQL SERVER\"\"\""
   ]
  },
  {
   "cell_type": "code",
   "execution_count": 20,
   "id": "665626f0-0a4b-4f3c-bf91-160cfd0425c5",
   "metadata": {},
   "outputs": [
    {
     "name": "stdout",
     "output_type": "stream",
     "text": [
      "Database object: <mysql.connector.connection.MySQLConnection object at 0x00000230CDCC37A0>\n"
     ]
    }
   ],
   "source": [
    "try:\n",
    "    with connector.connect(\n",
    "        host = \"localhost\",\n",
    "        user = \"root\",\n",
    "        password = PASSWORD\n",
    "    ) as database: \n",
    "        print(f\"Database object: {database}\")\n",
    "except connector.Error as e: \n",
    "    print(e)"
   ]
  },
  {
   "cell_type": "markdown",
   "id": "510e1a0e-c38e-4269-8007-5c7292242223",
   "metadata": {},
   "source": [
    "## \"\"\"PART 2: CREATING A NEW DATABASE \"\"\""
   ]
  },
  {
   "cell_type": "code",
   "execution_count": 21,
   "id": "4789a81d-fc1d-4329-b314-ed25e2b5a697",
   "metadata": {},
   "outputs": [
    {
     "name": "stdout",
     "output_type": "stream",
     "text": [
      "('book_ratings',)\n",
      "('information_schema',)\n",
      "('mysql',)\n",
      "('performance_schema',)\n",
      "('sys',)\n",
      "('university',)\n"
     ]
    }
   ],
   "source": [
    "try: \n",
    "    # Connect to server\n",
    "    with connector.connect(\n",
    "        host = \"localhost\",\n",
    "        user = \"root\",\n",
    "        password = PASSWORD\n",
    "    ) as database: \n",
    "        \n",
    "        # Create a database\n",
    "        # Uncomment the code to delete db when executing multiple times\n",
    "        # It will delete the previously created database. \n",
    "        # This means the remainder of the code recreates a new one. \n",
    "        delete_db = \"DROP DATABASE if exists book_ratings\"\n",
    "        create_db = \"CREATE DATABASE book_ratings\"\n",
    "        with database.cursor() as cursor: \n",
    "            cursor.execute(delete_db) \n",
    "            cursor.execute(create_db)\n",
    "\n",
    "            # Display existing databases\n",
    "            show_existing_db = \"SHOW DATABASES\"\n",
    "            cursor.execute(show_existing_db)\n",
    "            for db in cursor:\n",
    "                print(db)\n",
    "# Catch errors\n",
    "except connector.Error as e:\n",
    "  print(e)"
   ]
  },
  {
   "cell_type": "markdown",
   "id": "fdf33d17-df34-436f-82b9-114fb6e845aa",
   "metadata": {},
   "source": [
    "## \"\"\" PART 2.1: CONNECTING TO AN EXISTING DATABASE\"\"\""
   ]
  },
  {
   "cell_type": "code",
   "execution_count": 22,
   "id": "05c94426-cb70-483e-a87a-3e9788a45da5",
   "metadata": {},
   "outputs": [
    {
     "name": "stdout",
     "output_type": "stream",
     "text": [
      "Existing Database Object: <mysql.connector.connection.MySQLConnection object at 0x00000230CDCC37A0>\n"
     ]
    }
   ],
   "source": [
    "try:\n",
    "    # Connect to server\n",
    "    with connector.connect(\n",
    "        host = \"localhost\",\n",
    "        user = \"root\",\n",
    "        password = PASSWORD,\n",
    "        database = \"book_ratings\" # The difference! \n",
    "    ) as database:\n",
    "        \n",
    "        print(f\"Existing Database Object: {database}\")\n",
    "\n",
    "except connector.Error as e: \n",
    "    print(e)"
   ]
  },
  {
   "cell_type": "markdown",
   "id": "f7ae57d3-d755-454e-a3ac-bf0901a07be7",
   "metadata": {},
   "source": [
    "## \"\"\"PART 3: CREATING TABLES\"\"\""
   ]
  },
  {
   "cell_type": "code",
   "execution_count": 23,
   "id": "dd4833f3-82a2-4667-9132-b046e69a4ecf",
   "metadata": {},
   "outputs": [
    {
     "name": "stdout",
     "output_type": "stream",
     "text": [
      "('id', 'int', 'NO', 'PRI', None, 'auto_increment')\n",
      "('title', 'varchar(100)', 'YES', '', None, '')\n",
      "('author', 'varchar(100)', 'YES', '', None, '')\n",
      "('genre', 'varchar(100)', 'YES', '', None, '')\n",
      "('release_year', 'year', 'YES', '', None, '')\n"
     ]
    }
   ],
   "source": [
    "drop_table =\"DROP TABLE IF EXISTS `books`\";\n",
    "create_books_table = \"\"\"\n",
    "CREATE TABLE books(\n",
    "    id INT NOT NULL AUTO_INCREMENT PRIMARY KEY,\n",
    "    title VARCHAR(100),\n",
    "    author VARCHAR(100),\n",
    "    genre VARCHAR(100),\n",
    "    release_year YEAR(4)\n",
    ")\n",
    "\"\"\"\n",
    "try: \n",
    "    # Connect to existing database\n",
    "    with connector.connect(\n",
    "        host = \"localhost\",\n",
    "        user = \"root\",\n",
    "        password = PASSWORD,\n",
    "        database = \"book_ratings\"\n",
    "    ) as existing_database:\n",
    "        \n",
    "        # Create cursor object\n",
    "        with existing_database.cursor() as cursor: \n",
    "            cursor.execute(drop_table)\n",
    "            cursor.execute(create_books_table)\n",
    "            existing_database.commit()\n",
    "        \n",
    "            # Display the table schema \n",
    "            describe_books = \"DESCRIBE books\"\n",
    "            cursor.execute(describe_books)\n",
    "            books_schema = cursor.fetchall() \n",
    "            for column in books_schema: \n",
    "                print(column)\n",
    "\n",
    "except connector.Error as e: \n",
    "    print(e)"
   ]
  },
  {
   "cell_type": "markdown",
   "id": "97e1d441-30ad-4224-9cb8-8c82664e7e94",
   "metadata": {},
   "source": [
    "## \"\"\"PART 4: DATA INSERTION\"\"\""
   ]
  },
  {
   "cell_type": "code",
   "execution_count": 24,
   "id": "768b4a7a-3cd1-4155-8fab-888b9bea0e36",
   "metadata": {},
   "outputs": [],
   "source": [
    "# INSERT SINGLE RECORD\n",
    "insert_single_record = \"INSERT INTO books (id, title, author, genre, release_year)\\\n",
    "    VALUES (%s, %s, %s, %s, %s)\"\n",
    "single_record = (\n",
    "    \"1\", \"Choose Yourself! Be Happy, Make Millions, Live the Dream\", \"James Altucher\", \"self-help\", \"2013\"\n",
    "    )\n",
    "\n",
    "try: \n",
    "    # Connect to existing database\n",
    "    with connector.connect(\n",
    "        host = \"localhost\",\n",
    "        user = \"root\",\n",
    "        password = PASSWORD,\n",
    "        database = \"book_ratings\"\n",
    "    ) as existing_database:\n",
    "        \n",
    "        # Create cursor object\n",
    "        with existing_database.cursor() as cursor:\n",
    "            cursor.execute(insert_single_record, single_record)\n",
    "            existing_database.commit()\n",
    "        \n",
    "except connector.Error as e: \n",
    "    print(e)\n",
    "\n",
    "# INSERT MULTIPLE RECORDS\n",
    "insert_multiple_records = \"INSERT INTO books (id, title, author, genre, release_year)\\\n",
    "    VALUES (%s, %s, %s, %s, %s)\"\n",
    "multiple_records = [\n",
    "    (\n",
    "        \"2\", \n",
    "        \"Skip the Line: The 10,000 Experiments Rule and Other Surprising Advice for Reaching Your Goals\",\n",
    "        \"James Altucher\",\n",
    "        \"self-help\",\n",
    "        \"2021\"        \n",
    "    ),\n",
    "    (\n",
    "        \"3\",\n",
    "        \"The Power of No: Because One Little Word Can Bring Health, Abundance, and Happiness\",\n",
    "        \"James Altucher\",\n",
    "        \"self-help\",\n",
    "        \"2014\"\n",
    "    ),\n",
    "    (\n",
    "        \"4\",\n",
    "        \"The 48 Laws of Power\",\n",
    "        \"Robert Greene\",\n",
    "        \"self-help\",\n",
    "        \"1998\"\n",
    "    ),\n",
    "    (\n",
    "        \"5\",\n",
    "        \"Mastery\",\n",
    "        \"Robert Greene\",\n",
    "        \"self-help\",\n",
    "        \"2012\"\n",
    "    ),\n",
    "    (\n",
    "        \"6\",\n",
    "        \"The Art of Seduction\",\n",
    "        \"Robert Greene\",\n",
    "        \"self-help\",\n",
    "        \"2001\"\n",
    "    ),\n",
    "]\n",
    "\n",
    "try: \n",
    "    # Connect to existing database\n",
    "    with connector.connect(\n",
    "        host = \"localhost\",\n",
    "        user = \"root\",\n",
    "        password = PASSWORD,\n",
    "        database = \"book_ratings\"\n",
    "    ) as existing_database:\n",
    "        \n",
    "        # Create cursor object\n",
    "        with existing_database.cursor() as cursor:\n",
    "            cursor.executemany(insert_multiple_records, multiple_records)\n",
    "            existing_database.commit()\n",
    "        \n",
    "except connector.Error as e: \n",
    "    print(e)"
   ]
  },
  {
   "cell_type": "markdown",
   "id": "9e4862db-4428-4419-8c49-e28abc3dedb6",
   "metadata": {},
   "source": [
    "\"\"\"PART 5: SELECTING DATA\"\"\""
   ]
  },
  {
   "cell_type": "code",
   "execution_count": 25,
   "id": "10162e1d-f1f7-4b64-9c18-dd52f91c0d46",
   "metadata": {},
   "outputs": [
    {
     "name": "stdout",
     "output_type": "stream",
     "text": [
      "('James Altucher', 2013)\n",
      "('James Altucher', 2021)\n",
      "('James Altucher', 2014)\n",
      "('Robert Greene', 1998)\n",
      "('Robert Greene', 2012)\n",
      "('Robert Greene', 2001)\n",
      "(1, 'Choose Yourself! Be Happy, Make Millions, Live the Dream', 'James Altucher', 'self-help', 2013)\n",
      "(2, 'Skip the Line: The 10,000 Experiments Rule and Other Surprising Advice for Reaching Your Goals', 'James Altucher', 'self-help', 2021)\n",
      "(3, 'The Power of No: Because One Little Word Can Bring Health, Abundance, and Happiness', 'James Altucher', 'self-help', 2014)\n",
      "(4, 'The 48 Laws of Power', 'Robert Greene', 'self-help', 1998)\n",
      "(5, 'Mastery', 'Robert Greene', 'self-help', 2012)\n",
      "(6, 'The Art of Seduction', 'Robert Greene', 'self-help', 2001)\n"
     ]
    }
   ],
   "source": [
    "# Select specific columns example\n",
    "try: \n",
    "    # Connect to existing database\n",
    "    with connector.connect(\n",
    "        host = \"localhost\",\n",
    "        user = \"root\",\n",
    "        password = PASSWORD,\n",
    "        database = \"book_ratings\"\n",
    "    ) as existing_database:\n",
    "        \n",
    "        # Create cursor object\n",
    "        select_specific_cols = \"SELECT author, release_year FROM books\"\n",
    "        with existing_database.cursor() as cursor:\n",
    "            cursor.execute(select_specific_cols)\n",
    "            \n",
    "            # Display returned data\n",
    "            returned_data = cursor.fetchall()\n",
    "            for result in returned_data:\n",
    "                print(result)\n",
    "        \n",
    "except connector.Error as e: \n",
    "    print(e)\n",
    "\n",
    "# Select all columns example\n",
    "try:\n",
    "    # Connect to existing database\n",
    "    with connector.connect(\n",
    "        host = \"localhost\",\n",
    "        user = \"root\",\n",
    "        password = PASSWORD,\n",
    "        database = \"book_ratings\"\n",
    "    ) as existing_database:\n",
    "        \n",
    "        # Create cursor object\n",
    "        select_specific_cols = \"SELECT * FROM books\"\n",
    "        with existing_database.cursor() as cursor:\n",
    "            cursor.execute(select_specific_cols)\n",
    "            \n",
    "            # Display returned data\n",
    "            returned_data = cursor.fetchall()\n",
    "            for result in returned_data:\n",
    "                print(result)\n",
    "        \n",
    "except connector.Error as e: \n",
    "    print(e)\n"
   ]
  },
  {
   "cell_type": "markdown",
   "id": "aada7d24-920d-41d6-b49b-04ccb979b05f",
   "metadata": {},
   "source": [
    "## \"\"\"PART 5.1: WHERE\"\"\""
   ]
  },
  {
   "cell_type": "code",
   "execution_count": 26,
   "id": "dd07408d-a168-447e-9e7b-118f03e45927",
   "metadata": {},
   "outputs": [
    {
     "name": "stdout",
     "output_type": "stream",
     "text": [
      "('Robert Greene', 'The 48 Laws of Power')\n",
      "('Robert Greene', 'The Art of Seduction')\n"
     ]
    }
   ],
   "source": [
    "try:\n",
    "    # Connect to existing database\n",
    "    with connector.connect(\n",
    "        host = \"localhost\",\n",
    "        user = \"root\",\n",
    "        password = PASSWORD,\n",
    "        database = \"book_ratings\"\n",
    "    ) as existing_database:\n",
    "        \n",
    "        # Create cursor object\n",
    "        condition = \"SELECT author, title FROM books WHERE release_year <= 2010\"\n",
    "        with existing_database.cursor() as cursor:\n",
    "            cursor.execute(condition)\n",
    "            \n",
    "            # Display returned data\n",
    "            returned_data = cursor.fetchall()\n",
    "            for result in returned_data:\n",
    "                print(result)\n",
    "        \n",
    "except connector.Error as e: \n",
    "    print(e)"
   ]
  },
  {
   "cell_type": "markdown",
   "id": "8c26e159-52d8-4cc0-b68f-a7e8c12fc152",
   "metadata": {},
   "source": [
    "## \"\"\"PART 5.2: ORDER BY\"\"\""
   ]
  },
  {
   "cell_type": "code",
   "execution_count": 27,
   "id": "9b2459bb-572c-48f5-b765-a99a283e01fd",
   "metadata": {},
   "outputs": [
    {
     "name": "stdout",
     "output_type": "stream",
     "text": [
      "(2, 'Skip the Line: The 10,000 Experiments Rule and Other Surprising Advice for Reaching Your Goals', 'James Altucher', 'self-help', 2021)\n",
      "(3, 'The Power of No: Because One Little Word Can Bring Health, Abundance, and Happiness', 'James Altucher', 'self-help', 2014)\n",
      "(1, 'Choose Yourself! Be Happy, Make Millions, Live the Dream', 'James Altucher', 'self-help', 2013)\n",
      "(5, 'Mastery', 'Robert Greene', 'self-help', 2012)\n",
      "(6, 'The Art of Seduction', 'Robert Greene', 'self-help', 2001)\n",
      "(4, 'The 48 Laws of Power', 'Robert Greene', 'self-help', 1998)\n"
     ]
    }
   ],
   "source": [
    "try:\n",
    "    # Connect to existing database\n",
    "    with connector.connect(\n",
    "        host = \"localhost\",\n",
    "        user = \"root\",\n",
    "        password = PASSWORD,\n",
    "        database = \"book_ratings\"\n",
    "    ) as existing_database:\n",
    "        \n",
    "        # Create cursor object\n",
    "        order_by_year = \"SELECT * FROM books ORDER BY release_year DESC\"\n",
    "        with existing_database.cursor() as cursor:\n",
    "            cursor.execute(order_by_year)\n",
    "            \n",
    "            # Display returned data\n",
    "            returned_data = cursor.fetchall()\n",
    "            for result in returned_data:\n",
    "                print(result)\n",
    "        \n",
    "except connector.Error as e: \n",
    "    print(e)"
   ]
  },
  {
   "cell_type": "markdown",
   "id": "8ec4d5ef-a057-439a-8737-2fc43f1b474c",
   "metadata": {},
   "source": [
    "## \"\"\"PART 5.3: LIMIT\"\"\""
   ]
  },
  {
   "cell_type": "code",
   "execution_count": 28,
   "id": "38b05957-2cdd-4625-95bf-10081f1a303a",
   "metadata": {},
   "outputs": [
    {
     "name": "stdout",
     "output_type": "stream",
     "text": [
      "(1, 'Choose Yourself! Be Happy, Make Millions, Live the Dream', 'James Altucher', 'self-help', 2013)\n",
      "(2, 'Skip the Line: The 10,000 Experiments Rule and Other Surprising Advice for Reaching Your Goals', 'James Altucher', 'self-help', 2021)\n",
      "(3, 'The Power of No: Because One Little Word Can Bring Health, Abundance, and Happiness', 'James Altucher', 'self-help', 2014)\n"
     ]
    }
   ],
   "source": [
    "try:\n",
    "    # Connect to existing database\n",
    "    with connector.connect(\n",
    "        host = \"localhost\",\n",
    "        user = \"root\",\n",
    "        password = PASSWORD,\n",
    "        database = \"book_ratings\"\n",
    "    ) as existing_database:\n",
    "        \n",
    "        # Create cursor object\n",
    "        define_limit = \"SELECT * FROM books LIMIT 3\"\n",
    "        with existing_database.cursor() as cursor:\n",
    "            cursor.execute(define_limit)\n",
    "            \n",
    "            # Display returned data\n",
    "            returned_data = cursor.fetchall()\n",
    "            for result in returned_data:\n",
    "                print(result)\n",
    "        \n",
    "except connector.Error as e: \n",
    "    print(e)"
   ]
  },
  {
   "cell_type": "code",
   "execution_count": 29,
   "id": "a21b5b03-9031-4ed7-913e-76f1d94861c4",
   "metadata": {},
   "outputs": [],
   "source": [
    "## \"\"\"PART 6: UPDATING AND DELETING DATA\"\"\""
   ]
  },
  {
   "cell_type": "code",
   "execution_count": 30,
   "id": "2741888a-be43-421a-af78-adaa7179a41a",
   "metadata": {},
   "outputs": [
    {
     "name": "stdout",
     "output_type": "stream",
     "text": [
      "('Big J',)\n",
      "('Robert Greene',)\n"
     ]
    }
   ],
   "source": [
    "update_query = \"\"\"\n",
    "UPDATE\n",
    "    books\n",
    "SET\n",
    "    author = \"Big J\" \n",
    "WHERE \n",
    "    author = \"James Altucher\"\n",
    "\"\"\"\n",
    "\n",
    "try:\n",
    "    # Connect to existing database\n",
    "    with connector.connect(\n",
    "        host = \"localhost\",\n",
    "        user = \"root\",\n",
    "        password = PASSWORD,\n",
    "        database = \"book_ratings\"\n",
    "    ) as existing_database:\n",
    "        \n",
    "        # Create cursor object\n",
    "        with existing_database.cursor() as cursor:\n",
    "            cursor.execute(update_query)\n",
    "            existing_database.commit()\n",
    "        \n",
    "            # View author names\n",
    "            select_author_names = \"SELECT DISTINCT author FROM books\"\n",
    "            cursor.execute(select_author_names)\n",
    "\n",
    "            # Display returned data\n",
    "            returned_data = cursor.fetchall()\n",
    "            for result in returned_data:\n",
    "                print(result)\n",
    "\n",
    "except connector.Error as e:\n",
    "    print(e)"
   ]
  },
  {
   "cell_type": "markdown",
   "id": "73fdd0d9-5a5e-4b8f-9084-2e4fea5b8fa0",
   "metadata": {},
   "source": [
    "## \"\"\"PART 6.2: DELETE\"\"\""
   ]
  },
  {
   "cell_type": "code",
   "execution_count": 31,
   "id": "7ac44d11-463f-4464-8c06-eb06f6861c5a",
   "metadata": {},
   "outputs": [
    {
     "name": "stdout",
     "output_type": "stream",
     "text": [
      "(2013,)\n",
      "(2021,)\n",
      "(2014,)\n",
      "(2012,)\n",
      "(2001,)\n"
     ]
    }
   ],
   "source": [
    "try: \n",
    "    # Connect to existing database\n",
    "    with connector.connect(\n",
    "        host = \"localhost\",\n",
    "        user = \"root\",\n",
    "        password = PASSWORD,\n",
    "        database = \"book_ratings\"\n",
    "    ) as existing_database:\n",
    "        \n",
    "        # Create cursor object\n",
    "        drop_record = \"DELETE FROM books WHERE release_year <= 2000\"\n",
    "        with existing_database.cursor() as cursor:\n",
    "            cursor.execute(drop_record)\n",
    "            existing_database.commit()\n",
    "            \n",
    "            # Display books years \n",
    "            unique_book_years = \"SELECT DISTINCT release_year FROM books\"\n",
    "            cursor.execute(unique_book_years)\n",
    "            returned_data = cursor.fetchall()\n",
    "            \n",
    "            for result in returned_data:\n",
    "                print(result)\n",
    "\n",
    "except connector.Error as e: \n",
    "    print(e)"
   ]
  },
  {
   "cell_type": "markdown",
   "id": "7601c265-e455-4081-a73f-bc4e94c73b32",
   "metadata": {},
   "source": [
    "## \"\"\"PART 6.3: DROP TABLE\"\"\""
   ]
  },
  {
   "cell_type": "code",
   "execution_count": 32,
   "id": "6bac64b3-88d8-443a-b477-1a79e88fe753",
   "metadata": {},
   "outputs": [],
   "source": [
    "try: \n",
    "    # Connect to existing database\n",
    "    with connector.connect(\n",
    "        host = \"localhost\",\n",
    "        user = \"root\",\n",
    "        password = PASSWORD,\n",
    "        database = \"book_ratings\"\n",
    "    ) as existing_database:\n",
    "        \n",
    "        # Create cursor object\n",
    "        drop_table = \"DROP TABLE IF EXISTS books\"\n",
    "        with existing_database.cursor(buffered=True) as cursor:\n",
    "            cursor.execute(drop_table)\n",
    "            existing_database.commit()\n",
    "except connector.Error as e: \n",
    "    print(e)"
   ]
  },
  {
   "cell_type": "code",
   "execution_count": null,
   "id": "03b03b73-a2f6-4d31-b086-5fd6f343d548",
   "metadata": {},
   "outputs": [],
   "source": []
  }
 ],
 "metadata": {
  "kernelspec": {
   "display_name": "pySQL",
   "language": "python",
   "name": "pysql"
  },
  "language_info": {
   "codemirror_mode": {
    "name": "ipython",
    "version": 3
   },
   "file_extension": ".py",
   "mimetype": "text/x-python",
   "name": "python",
   "nbconvert_exporter": "python",
   "pygments_lexer": "ipython3",
   "version": "3.12.4"
  }
 },
 "nbformat": 4,
 "nbformat_minor": 5
}
